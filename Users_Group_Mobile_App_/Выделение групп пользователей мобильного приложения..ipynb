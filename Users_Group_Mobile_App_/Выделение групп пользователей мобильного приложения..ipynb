{
 "cells": [
  {
   "cell_type": "markdown",
   "metadata": {
    "id": "XxSNviHSb-YY"
   },
   "source": [
    "<div style=\"border:solid green 2px; padding: 20px\">\n",
    "    \n",
    "<b>Алиса, привет! Это Александр Матвеевский</b> Я рад тебя видеть на финальном спринте (Основной проект).\n",
    "\n",
    "---\n",
    "\n",
    "Я буду красить комментарии цветом, пожалуйста, не удаляй их:\n",
    "\n",
    "<div class=\"alert alert-block alert-danger\">✍\n",
    "    \n",
    "\n",
    "__Комментарий от тимлида №1__\n",
    "\n",
    "Такой комментарий нужно исправить обязательно, он критически влияет на удачное выполнение проекта.\n",
    "</div>\n",
    "    \n",
    "---\n",
    "\n",
    "<div class=\"alert alert-block alert-warning\">📝\n",
    "    \n",
    "\n",
    "__Комментарий от тимлида №1__\n",
    "\n",
    "\n",
    "Такой комментарий является рекомендацией или советом. Можешь использовать их на своё усмотрение.\n",
    "</div>\n",
    "\n",
    "---\n",
    "\n",
    "<div class=\"alert alert-block alert-success\">✔️\n",
    "    \n",
    "\n",
    "__Комментарий от тимлида №1__\n",
    "\n",
    "Такой комментарий  говорит о том, что было сделано что-то качественное и правильное =)\n",
    "</div>\n",
    "    \n",
    "---\n",
    "    \n",
    "Предлагаю работать над проектом в диалоге: если у тебя возникают вопросы — пиши об этом в слаке, не стесняйся. Так же, мне будет легче отследить изменения, если ты выделишь свои комментарии:   \n",
    "    \n",
    "<div class=\"alert alert-info\"> <b>Комментарии студента:</b> Например, вот так.</div>\n",
    "    \n",
    "    \n",
    "---"
   ]
  },
  {
   "cell_type": "markdown",
   "metadata": {
    "id": "6VVvGQ42s-N_"
   },
   "source": [
    "<div class=\"alert alert-info\"> <b>Комментарии студента:</b> Привет, Александр! Спасибо за конструктивную критику! Ниже постаралась учесть все твои замечания ✔\n",
    "    Однако, уверена, что если что-то будет не так - ты поможешь мне это исправить) </div>"
   ]
  },
  {
   "cell_type": "markdown",
   "metadata": {
    "id": "R6pYhqs6LxQo"
   },
   "source": [
    "<div class=\"alert alert-block alert-success\">✔️\n",
    "    \n",
    "\n",
    "__Комментарий от тимлида №2__\n",
    "\n",
    "Алиса, рад тебя видеть =) Спасибо за обратную связь и правки)\n",
    "</div>"
   ]
  },
  {
   "cell_type": "markdown",
   "metadata": {
    "id": "hnb1jSEFSVtr"
   },
   "source": [
    "# Материалы\n",
    "\n",
    "Презентация: https://drive.google.com/file/d/1uAPW1WvNwtA3Z_lPxjmhptSa-BIyyazc/view?usp=share_link"
   ]
  },
  {
   "cell_type": "markdown",
   "metadata": {
    "id": "SWcw4XApLxQp"
   },
   "source": [
    "<div class=\"alert alert-block alert-warning\">📝\n",
    "    \n",
    "\n",
    "__Комментарий от тимлида №2__\n",
    "\n",
    "Хорошая презентация как по содержанию так и по структуре. Все важные моменты исследования представлены. Используешь тезисный подход и не злоупотребляешь текстом на слайдах. Но нужно добавить нумерацию слайдов\n",
    "    \n",
    "---\n",
    "    \n",
    "У Яндекс Практикума есть отличный и бесплатный курс по презентациям. Советую, в свободное время освоить его (https://practicum.yandex.ru/profile/visual-presentation/)    \n",
    "\n",
    "</div>"
   ]
  },
  {
   "cell_type": "markdown",
   "metadata": {
    "id": "NQBwUQFxPWax"
   },
   "source": [
    "<div class=\"alert alert-info\"> <b>Комментарии студента:</b> Исправила ✔\n",
    "Спасибо за курс! Обязательно пройду \n",
    "</div>"
   ]
  },
  {
   "cell_type": "markdown",
   "metadata": {},
   "source": [
    "<div class=\"alert alert-block alert-success\">✔️\n",
    "    \n",
    "\n",
    "__Комментарий от тимлида №3__\n",
    "\n",
    "Рад поделиться)\n",
    "</div>"
   ]
  },
  {
   "cell_type": "markdown",
   "metadata": {
    "id": "lBpBRJ-bue2d"
   },
   "source": [
    "# Цель исследования\n",
    "  **Выделение групп пользователей на основе поведения.** Ответить на вопросы:\n",
    "  - Пользователи какой группы склонны часто возвращаться в мобильное приложение?\n",
    "  - Пользователя какой группы часто делают целевое событие?"
   ]
  },
  {
   "cell_type": "markdown",
   "metadata": {
    "id": "szKpJPL_EW6u"
   },
   "source": [
    "## Ход исследования \n",
    "   - **Знакомство с данными:**\n",
    "     - Выгрузка данных\n",
    "     - Визуализация данных\n",
    "   - **Предобработка данных:**\n",
    "     - Приведение наименований к единому регистру\n",
    "     - Обработка дубликатов\n",
    "     - Обработка пропусков\n",
    "     - Выделение необходимых для исследования данных из имеющихся\n",
    "     - Вывод о предоставленных данных \n",
    "   - **Исследовательский анализ данных**:\n",
    "     - Поведение пользователей:\n",
    "       - retention rate\n",
    "       - время, проведённое в приложении\n",
    "       - частота действий\n",
    "       - конверсия в целевое действие \n",
    "     - Сегментация пользователей\n",
    "     - Выводы исследовальского анализа\n",
    "   - **Вывод**\n",
    "     - Ответы на основные вопросы\n",
    "     - Рекомендации\n",
    "   - **Проверка гипотез**:\n",
    "     - Пользователи из yandex и google демонстрируют разную конверсию\n",
    "     - Пользователи из yandex и google демонстрируют разную возвращаемость\n"
   ]
  },
  {
   "cell_type": "markdown",
   "metadata": {
    "id": "iKSLfCGQb-Yi"
   },
   "source": [
    "<div class=\"alert alert-block alert-success\">✔️\n",
    "    \n",
    "\n",
    "__Комментарий от тимлида №1__\n",
    "\n",
    "\n",
    "Отличная практика - расписывать цель и основные этапы перед началом проекта"
   ]
  },
  {
   "cell_type": "markdown",
   "metadata": {
    "id": "epd4PKEBELs1"
   },
   "source": [
    "# Знакомство с данными "
   ]
  },
  {
   "cell_type": "markdown",
   "metadata": {
    "id": "wkYEi90xEfvM"
   },
   "source": [
    "## Выгрузка данных"
   ]
  },
  {
   "cell_type": "code",
   "execution_count": 1,
   "metadata": {
    "id": "ZGGE6wfMolfr"
   },
   "outputs": [],
   "source": [
    "import pandas as pd \n",
    "import matplotlib.pyplot as plt\n",
    "import matplotlib.ticker as ticker\n",
    "import seaborn as sns\n",
    "from plotly import graph_objects as go\n",
    "from datetime import datetime, timedelta\n",
    "from scipy import stats as st\n",
    "import numpy as np\n",
    "import math as mth\n",
    "import copy\n",
    "\n",
    "pd.options.display.float_format = '{:.3f}'.format\n",
    "pd.set_option('mode.chained_assignment', None)"
   ]
  },
  {
   "cell_type": "code",
   "execution_count": 2,
   "metadata": {
    "id": "AI64uxX0qIr6"
   },
   "outputs": [],
   "source": [
    "sourсes = pd.read_csv('https://code.s3.yandex.net/datasets/mobile_soures.csv')\n",
    "mobile_df = pd.read_csv('https://code.s3.yandex.net/datasets/mobile_dataset.csv')"
   ]
  },
  {
   "cell_type": "markdown",
   "metadata": {
    "id": "Asqle2PoHV0P"
   },
   "source": [
    "## Изучение данных"
   ]
  },
  {
   "cell_type": "code",
   "execution_count": 3,
   "metadata": {
    "colab": {
     "base_uri": "https://localhost:8080/",
     "height": 1000
    },
    "id": "UoiPlo4hINNF",
    "outputId": "44df032b-dc8e-4efe-8c14-216f0bcd9d0a"
   },
   "outputs": [
    {
     "data": {
      "text/html": [
       "<div>\n",
       "<style scoped>\n",
       "    .dataframe tbody tr th:only-of-type {\n",
       "        vertical-align: middle;\n",
       "    }\n",
       "\n",
       "    .dataframe tbody tr th {\n",
       "        vertical-align: top;\n",
       "    }\n",
       "\n",
       "    .dataframe thead th {\n",
       "        text-align: right;\n",
       "    }\n",
       "</style>\n",
       "<table border=\"1\" class=\"dataframe\">\n",
       "  <thead>\n",
       "    <tr style=\"text-align: right;\">\n",
       "      <th></th>\n",
       "      <th>userId</th>\n",
       "      <th>source</th>\n",
       "    </tr>\n",
       "  </thead>\n",
       "  <tbody>\n",
       "    <tr>\n",
       "      <th>0</th>\n",
       "      <td>020292ab-89bc-4156-9acf-68bc2783f894</td>\n",
       "      <td>other</td>\n",
       "    </tr>\n",
       "    <tr>\n",
       "      <th>1</th>\n",
       "      <td>cf7eda61-9349-469f-ac27-e5b6f5ec475c</td>\n",
       "      <td>yandex</td>\n",
       "    </tr>\n",
       "    <tr>\n",
       "      <th>2</th>\n",
       "      <td>8c356c42-3ba9-4cb6-80b8-3f868d0192c3</td>\n",
       "      <td>yandex</td>\n",
       "    </tr>\n",
       "    <tr>\n",
       "      <th>3</th>\n",
       "      <td>d9b06b47-0f36-419b-bbb0-3533e582a6cb</td>\n",
       "      <td>other</td>\n",
       "    </tr>\n",
       "    <tr>\n",
       "      <th>4</th>\n",
       "      <td>f32e1e2a-3027-4693-b793-b7b3ff274439</td>\n",
       "      <td>google</td>\n",
       "    </tr>\n",
       "    <tr>\n",
       "      <th>5</th>\n",
       "      <td>17f6b2db-2964-4d11-89d8-7e38d2cb4750</td>\n",
       "      <td>yandex</td>\n",
       "    </tr>\n",
       "    <tr>\n",
       "      <th>6</th>\n",
       "      <td>62aa104f-592d-4ccb-8226-2ba0e719ded5</td>\n",
       "      <td>yandex</td>\n",
       "    </tr>\n",
       "    <tr>\n",
       "      <th>7</th>\n",
       "      <td>57321726-5d66-4d51-84f4-c797c35dcf2b</td>\n",
       "      <td>google</td>\n",
       "    </tr>\n",
       "    <tr>\n",
       "      <th>8</th>\n",
       "      <td>c2cf55c0-95f7-4269-896c-931d14deaab5</td>\n",
       "      <td>google</td>\n",
       "    </tr>\n",
       "    <tr>\n",
       "      <th>9</th>\n",
       "      <td>48e614d6-fe03-40f7-bf9e-4c4f61c19f64</td>\n",
       "      <td>yandex</td>\n",
       "    </tr>\n",
       "  </tbody>\n",
       "</table>\n",
       "</div>"
      ],
      "text/plain": [
       "                                 userId  source\n",
       "0  020292ab-89bc-4156-9acf-68bc2783f894   other\n",
       "1  cf7eda61-9349-469f-ac27-e5b6f5ec475c  yandex\n",
       "2  8c356c42-3ba9-4cb6-80b8-3f868d0192c3  yandex\n",
       "3  d9b06b47-0f36-419b-bbb0-3533e582a6cb   other\n",
       "4  f32e1e2a-3027-4693-b793-b7b3ff274439  google\n",
       "5  17f6b2db-2964-4d11-89d8-7e38d2cb4750  yandex\n",
       "6  62aa104f-592d-4ccb-8226-2ba0e719ded5  yandex\n",
       "7  57321726-5d66-4d51-84f4-c797c35dcf2b  google\n",
       "8  c2cf55c0-95f7-4269-896c-931d14deaab5  google\n",
       "9  48e614d6-fe03-40f7-bf9e-4c4f61c19f64  yandex"
      ]
     },
     "metadata": {},
     "output_type": "display_data"
    },
    {
     "name": "stdout",
     "output_type": "stream",
     "text": [
      "<class 'pandas.core.frame.DataFrame'>\n",
      "RangeIndex: 4293 entries, 0 to 4292\n",
      "Data columns (total 2 columns):\n",
      " #   Column  Non-Null Count  Dtype \n",
      "---  ------  --------------  ----- \n",
      " 0   userId  4293 non-null   object\n",
      " 1   source  4293 non-null   object\n",
      "dtypes: object(2)\n",
      "memory usage: 67.2+ KB\n"
     ]
    },
    {
     "data": {
      "text/html": [
       "<div>\n",
       "<style scoped>\n",
       "    .dataframe tbody tr th:only-of-type {\n",
       "        vertical-align: middle;\n",
       "    }\n",
       "\n",
       "    .dataframe tbody tr th {\n",
       "        vertical-align: top;\n",
       "    }\n",
       "\n",
       "    .dataframe thead th {\n",
       "        text-align: right;\n",
       "    }\n",
       "</style>\n",
       "<table border=\"1\" class=\"dataframe\">\n",
       "  <thead>\n",
       "    <tr style=\"text-align: right;\">\n",
       "      <th></th>\n",
       "      <th>event.time</th>\n",
       "      <th>event.name</th>\n",
       "      <th>user.id</th>\n",
       "    </tr>\n",
       "  </thead>\n",
       "  <tbody>\n",
       "    <tr>\n",
       "      <th>0</th>\n",
       "      <td>2019-10-07 00:00:00.431357</td>\n",
       "      <td>advert_open</td>\n",
       "      <td>020292ab-89bc-4156-9acf-68bc2783f894</td>\n",
       "    </tr>\n",
       "    <tr>\n",
       "      <th>1</th>\n",
       "      <td>2019-10-07 00:00:01.236320</td>\n",
       "      <td>tips_show</td>\n",
       "      <td>020292ab-89bc-4156-9acf-68bc2783f894</td>\n",
       "    </tr>\n",
       "    <tr>\n",
       "      <th>2</th>\n",
       "      <td>2019-10-07 00:00:02.245341</td>\n",
       "      <td>tips_show</td>\n",
       "      <td>cf7eda61-9349-469f-ac27-e5b6f5ec475c</td>\n",
       "    </tr>\n",
       "    <tr>\n",
       "      <th>3</th>\n",
       "      <td>2019-10-07 00:00:07.039334</td>\n",
       "      <td>tips_show</td>\n",
       "      <td>020292ab-89bc-4156-9acf-68bc2783f894</td>\n",
       "    </tr>\n",
       "    <tr>\n",
       "      <th>4</th>\n",
       "      <td>2019-10-07 00:00:56.319813</td>\n",
       "      <td>advert_open</td>\n",
       "      <td>cf7eda61-9349-469f-ac27-e5b6f5ec475c</td>\n",
       "    </tr>\n",
       "    <tr>\n",
       "      <th>5</th>\n",
       "      <td>2019-10-07 00:01:19.993624</td>\n",
       "      <td>tips_show</td>\n",
       "      <td>cf7eda61-9349-469f-ac27-e5b6f5ec475c</td>\n",
       "    </tr>\n",
       "    <tr>\n",
       "      <th>6</th>\n",
       "      <td>2019-10-07 00:01:27.770232</td>\n",
       "      <td>advert_open</td>\n",
       "      <td>020292ab-89bc-4156-9acf-68bc2783f894</td>\n",
       "    </tr>\n",
       "    <tr>\n",
       "      <th>7</th>\n",
       "      <td>2019-10-07 00:01:34.804591</td>\n",
       "      <td>tips_show</td>\n",
       "      <td>020292ab-89bc-4156-9acf-68bc2783f894</td>\n",
       "    </tr>\n",
       "    <tr>\n",
       "      <th>8</th>\n",
       "      <td>2019-10-07 00:01:49.732803</td>\n",
       "      <td>advert_open</td>\n",
       "      <td>cf7eda61-9349-469f-ac27-e5b6f5ec475c</td>\n",
       "    </tr>\n",
       "    <tr>\n",
       "      <th>9</th>\n",
       "      <td>2019-10-07 00:01:54.958298</td>\n",
       "      <td>advert_open</td>\n",
       "      <td>020292ab-89bc-4156-9acf-68bc2783f894</td>\n",
       "    </tr>\n",
       "  </tbody>\n",
       "</table>\n",
       "</div>"
      ],
      "text/plain": [
       "                   event.time   event.name  \\\n",
       "0  2019-10-07 00:00:00.431357  advert_open   \n",
       "1  2019-10-07 00:00:01.236320    tips_show   \n",
       "2  2019-10-07 00:00:02.245341    tips_show   \n",
       "3  2019-10-07 00:00:07.039334    tips_show   \n",
       "4  2019-10-07 00:00:56.319813  advert_open   \n",
       "5  2019-10-07 00:01:19.993624    tips_show   \n",
       "6  2019-10-07 00:01:27.770232  advert_open   \n",
       "7  2019-10-07 00:01:34.804591    tips_show   \n",
       "8  2019-10-07 00:01:49.732803  advert_open   \n",
       "9  2019-10-07 00:01:54.958298  advert_open   \n",
       "\n",
       "                                user.id  \n",
       "0  020292ab-89bc-4156-9acf-68bc2783f894  \n",
       "1  020292ab-89bc-4156-9acf-68bc2783f894  \n",
       "2  cf7eda61-9349-469f-ac27-e5b6f5ec475c  \n",
       "3  020292ab-89bc-4156-9acf-68bc2783f894  \n",
       "4  cf7eda61-9349-469f-ac27-e5b6f5ec475c  \n",
       "5  cf7eda61-9349-469f-ac27-e5b6f5ec475c  \n",
       "6  020292ab-89bc-4156-9acf-68bc2783f894  \n",
       "7  020292ab-89bc-4156-9acf-68bc2783f894  \n",
       "8  cf7eda61-9349-469f-ac27-e5b6f5ec475c  \n",
       "9  020292ab-89bc-4156-9acf-68bc2783f894  "
      ]
     },
     "metadata": {},
     "output_type": "display_data"
    },
    {
     "name": "stdout",
     "output_type": "stream",
     "text": [
      "<class 'pandas.core.frame.DataFrame'>\n",
      "RangeIndex: 74197 entries, 0 to 74196\n",
      "Data columns (total 3 columns):\n",
      " #   Column      Non-Null Count  Dtype \n",
      "---  ------      --------------  ----- \n",
      " 0   event.time  74197 non-null  object\n",
      " 1   event.name  74197 non-null  object\n",
      " 2   user.id     74197 non-null  object\n",
      "dtypes: object(3)\n",
      "memory usage: 1.7+ MB\n"
     ]
    }
   ],
   "source": [
    "display (sourсes.head(10))\n",
    "sourсes.info()\n",
    "\n",
    "display (mobile_df.head(10))\n",
    "mobile_df.info()"
   ]
  },
  {
   "cell_type": "markdown",
   "metadata": {
    "id": "YctyMRhRb-Yo"
   },
   "source": [
    "<div class=\"alert alert-block alert-success\">✔️\n",
    "    \n",
    "\n",
    "__Комментарий от тимлида №1__\n",
    "\n",
    "    \n",
    "Отлично! Первый взгляд на данные есть"
   ]
  },
  {
   "cell_type": "markdown",
   "metadata": {
    "id": "Lbcq_LyBb-Yp"
   },
   "source": []
  },
  {
   "cell_type": "code",
   "execution_count": 4,
   "metadata": {
    "colab": {
     "base_uri": "https://localhost:8080/"
    },
    "id": "GmDSqyvYHrAb",
    "outputId": "e7f482b4-0f8b-4cc7-9088-076c4e406377"
   },
   "outputs": [
    {
     "name": "stdout",
     "output_type": "stream",
     "text": [
      "Всего типов событий: 16\n"
     ]
    }
   ],
   "source": [
    "print ('Всего типов событий:',mobile_df['event.name'].nunique())"
   ]
  },
  {
   "cell_type": "code",
   "execution_count": 5,
   "metadata": {
    "colab": {
     "base_uri": "https://localhost:8080/"
    },
    "id": "WvNjt8GLIjk-",
    "outputId": "4417545a-c3ad-4197-bd9d-15762607f4e2"
   },
   "outputs": [
    {
     "name": "stdout",
     "output_type": "stream",
     "text": [
      "Среднее количество событий на пользователя: 17.283251805264385\n"
     ]
    }
   ],
   "source": [
    "print ('Среднее количество событий на пользователя:', mobile_df['event.name'].count()/mobile_df['user.id'].nunique())"
   ]
  },
  {
   "cell_type": "code",
   "execution_count": 6,
   "metadata": {
    "colab": {
     "base_uri": "https://localhost:8080/",
     "height": 378
    },
    "id": "I1O9KatBK7T4",
    "outputId": "13817a1a-8eb8-48f1-cc00-697f85a7971f"
   },
   "outputs": [
    {
     "data": {
      "image/png": "[encoded data removed]",
      "text/plain": [
       "<Figure size 720x360 with 1 Axes>"
      ]
     },
     "metadata": {
      "needs_background": "light"
     },
     "output_type": "display_data"
    }
   ],
   "source": [
    "sourсes.groupby(['source']).agg({'userId': 'count'}).sort_values(by='userId', ascending = False).plot(\n",
    "    kind='bar', grid=True, \n",
    "    figsize=(10, 5), color='#c03c4d')\n",
    "\n",
    "plt.title('Распределение пользователей по источнику', fontsize=15) \n",
    "plt.ylabel('Пользователи', fontsize=10)\n",
    "plt.xlabel('Источник', fontsize=10)\n",
    "plt.show()"
   ]
  },
  {
   "cell_type": "markdown",
   "metadata": {
    "id": "RV_0N92Db-Yr"
   },
   "source": [
    "<div class=\"alert alert-block alert-danger\">✍\n",
    "    \n",
    "\n",
    "__Комментарий от тимлида №1__\n",
    "\n",
    "График по данным построен корректно, но не оформлен до конца. Суть в том, что график должен быть наглядным без контекста (т.к. в реальной практике ты будешь показывать презентации или отчет сторонним людям). \n",
    "\n",
    "Тебе необходимо проследить чтобы всегда был заголовок и подписаны оси. Доработай этот момент пожалуйста.\n",
    "    \n",
    "Данное замечания относится ко всему проекту и перепроверь его самостоятельно. Далее не буду акцентировать на этом внимание\n",
    "</div>"
   ]
  },
  {
   "cell_type": "markdown",
   "metadata": {
    "id": "GwH47QzvcK2H"
   },
   "source": [
    "<div class=\"alert alert-info\"> <b>Комментарии студента:</b> Исправила ✔</div>"
   ]
  },
  {
   "cell_type": "markdown",
   "metadata": {
    "id": "-tes6i71LxQ5"
   },
   "source": [
    "<div class=\"alert alert-block alert-danger\">✍\n",
    "    \n",
    "\n",
    "__Комментарий от тимлида №2__\n",
    "\n",
    "Дни?\n",
    "</div>"
   ]
  },
  {
   "cell_type": "markdown",
   "metadata": {
    "id": "D2kPcu_yMUUq"
   },
   "source": [
    "<div class=\"alert alert-info\"> <b>Комментарии студента:</b> Исправила ✔</div>"
   ]
  },
  {
   "cell_type": "markdown",
   "metadata": {},
   "source": [
    "<div class=\"alert alert-block alert-success\">✔️\n",
    "    \n",
    "\n",
    "__Комментарий от тимлида №3__\n",
    "\n",
    "Теперь корректно\n",
    "</div>"
   ]
  },
  {
   "cell_type": "markdown",
   "metadata": {
    "id": "x3oreAevJ6Ws"
   },
   "source": [
    " - **В датасетах представлена информация о 74 197 событиях 9ти типов и 4 293 пользователях. Пропусков в данных нет** \n",
    " - **В среднем на пользователя приходится 17 событий**\n",
    " - **Большая часть пользователей пришли из Яндекса**\n",
    " - **Типы данных в столбцах представлены преимущественно корректно, однако event.time мы можем привести для удобства работы к типу datetime**"
   ]
  },
  {
   "cell_type": "markdown",
   "metadata": {
    "id": "osPpGsFUMh6w"
   },
   "source": [
    "# Предобработка данных"
   ]
  },
  {
   "cell_type": "markdown",
   "metadata": {
    "id": "kULAkYgbNLUk"
   },
   "source": [
    "## Приведение наименований к единому регистру"
   ]
  },
  {
   "cell_type": "code",
   "execution_count": 7,
   "metadata": {
    "id": "A8mUIK7huxsL"
   },
   "outputs": [],
   "source": [
    "sourсes = sourсes.rename(columns={'userId':'user_id'})"
   ]
  },
  {
   "cell_type": "code",
   "execution_count": 8,
   "metadata": {
    "id": "kYxA9jkwrPjI"
   },
   "outputs": [],
   "source": [
    "mobile_df = mobile_df.rename(columns={'event.time':'event_time', 'event.name':'event_name', 'user.id':'user_id'})"
   ]
  },
  {
   "cell_type": "markdown",
   "metadata": {
    "id": "5ACv5FWdOrYq"
   },
   "source": [
    "## Коррекция типов данных"
   ]
  },
  {
   "cell_type": "code",
   "execution_count": 9,
   "metadata": {
    "id": "5hTWgKz5PA-J"
   },
   "outputs": [],
   "source": [
    "mobile_df['event_time'] = mobile_df['event_time'].astype('datetime64')"
   ]
  },
  {
   "cell_type": "markdown",
   "metadata": {
    "id": "KyNNLT22Pnl7"
   },
   "source": [
    "## Обработка дубликатов"
   ]
  },
  {
   "cell_type": "code",
   "execution_count": 10,
   "metadata": {
    "colab": {
     "base_uri": "https://localhost:8080/",
     "height": 49
    },
    "id": "OSrwNHfuPrLj",
    "outputId": "c7f1db55-d3b8-4136-f2af-4ba97f6fde17"
   },
   "outputs": [
    {
     "data": {
      "text/html": [
       "<div>\n",
       "<style scoped>\n",
       "    .dataframe tbody tr th:only-of-type {\n",
       "        vertical-align: middle;\n",
       "    }\n",
       "\n",
       "    .dataframe tbody tr th {\n",
       "        vertical-align: top;\n",
       "    }\n",
       "\n",
       "    .dataframe thead th {\n",
       "        text-align: right;\n",
       "    }\n",
       "</style>\n",
       "<table border=\"1\" class=\"dataframe\">\n",
       "  <thead>\n",
       "    <tr style=\"text-align: right;\">\n",
       "      <th></th>\n",
       "      <th>event_time</th>\n",
       "      <th>event_name</th>\n",
       "      <th>user_id</th>\n",
       "    </tr>\n",
       "  </thead>\n",
       "  <tbody>\n",
       "  </tbody>\n",
       "</table>\n",
       "</div>"
      ],
      "text/plain": [
       "Empty DataFrame\n",
       "Columns: [event_time, event_name, user_id]\n",
       "Index: []"
      ]
     },
     "execution_count": 10,
     "metadata": {},
     "output_type": "execute_result"
    }
   ],
   "source": [
    "mobile_df[mobile_df.duplicated()]"
   ]
  },
  {
   "cell_type": "code",
   "execution_count": 11,
   "metadata": {
    "colab": {
     "base_uri": "https://localhost:8080/",
     "height": 49
    },
    "id": "bkDElqNeP2ES",
    "outputId": "7135737f-b08b-4aaf-9d6a-c9d1825589fa"
   },
   "outputs": [
    {
     "data": {
      "text/html": [
       "<div>\n",
       "<style scoped>\n",
       "    .dataframe tbody tr th:only-of-type {\n",
       "        vertical-align: middle;\n",
       "    }\n",
       "\n",
       "    .dataframe tbody tr th {\n",
       "        vertical-align: top;\n",
       "    }\n",
       "\n",
       "    .dataframe thead th {\n",
       "        text-align: right;\n",
       "    }\n",
       "</style>\n",
       "<table border=\"1\" class=\"dataframe\">\n",
       "  <thead>\n",
       "    <tr style=\"text-align: right;\">\n",
       "      <th></th>\n",
       "      <th>user_id</th>\n",
       "      <th>source</th>\n",
       "    </tr>\n",
       "  </thead>\n",
       "  <tbody>\n",
       "  </tbody>\n",
       "</table>\n",
       "</div>"
      ],
      "text/plain": [
       "Empty DataFrame\n",
       "Columns: [user_id, source]\n",
       "Index: []"
      ]
     },
     "execution_count": 11,
     "metadata": {},
     "output_type": "execute_result"
    }
   ],
   "source": [
    "sourсes[sourсes.duplicated()]"
   ]
  },
  {
   "cell_type": "markdown",
   "metadata": {
    "id": "h4GqDpBFQAa5"
   },
   "source": [
    "**Явных дубликатов не обнаружено.** "
   ]
  },
  {
   "cell_type": "markdown",
   "metadata": {
    "id": "f9g04DoMQd8n"
   },
   "source": [
    "## Выделение данных"
   ]
  },
  {
   "cell_type": "markdown",
   "metadata": {
    "id": "qzC_ncop_pSy"
   },
   "source": [
    "### Сессии"
   ]
  },
  {
   "cell_type": "markdown",
   "metadata": {
    "id": "OUNZDoQg_sui"
   },
   "source": [
    "Для будущего исследования, выделим сессии относительно тайм-аута. Зададим порог в 40 минут - если между event_time больше 40 минут, то будем считать это разными сессиями. Зададим уникальный id для каждой сессии."
   ]
  },
  {
   "cell_type": "code",
   "execution_count": 12,
   "metadata": {
    "id": "5CaL90CPR1F-"
   },
   "outputs": [],
   "source": [
    "#сортируем датасет для корректного расчета\n",
    "mobile_df = mobile_df.sort_values(['user_id', 'event_time']) \n",
    "\n",
    "#группируем и определяем разницу в 40 минут в сумме для каждой группы \n",
    "group = (mobile_df.groupby('user_id')['event_time'].diff() > pd.Timedelta('40Min')).cumsum()\n",
    "\n",
    "#создаем счетчик для групп\n",
    "mobile_df['session_id'] = mobile_df.groupby(['user_id', group], sort=False).ngroup() + 1"
   ]
  },
  {
   "cell_type": "markdown",
   "metadata": {
    "id": "gC1YTa7kb-Yv"
   },
   "source": [
    "<div class=\"alert alert-block alert-warning\">📝\n",
    "    \n",
    "\n",
    "__Комментарий от тимлида №1__\n",
    "\n",
    "\n",
    "В реальной практике тебе придется обосновать почему именно 40 мин. Было бы неплохо аргументировать свое решение. От этого зависит сколько в целом у тебя получится уникальных сессий и повлияет на дальнейшие расчеты.\n",
    "\n",
    "</div>"
   ]
  },
  {
   "cell_type": "markdown",
   "metadata": {
    "id": "1QvEiBHoLxRa"
   },
   "source": [
    "<div class=\"alert alert-block alert-success\">✔️\n",
    "    \n",
    "\n",
    "__Комментарий от тимлида №2__\n",
    "\n",
    "\n",
    "По дефолту во всяких гугл аналитика, Яндекс метрика тайм аут сессии 30 мин. А так, зависит от степени конфиденциальности приложения. чем меньше, тем безопаснее\n"
   ]
  },
  {
   "cell_type": "markdown",
   "metadata": {
    "id": "rG3ICTHJadRB"
   },
   "source": [
    "### Поиск"
   ]
  },
  {
   "cell_type": "markdown",
   "metadata": {
    "id": "Ccd8cWIUh60X"
   },
   "source": [
    "Объеденим все 7 вариантов поиска в один search"
   ]
  },
  {
   "cell_type": "code",
   "execution_count": 13,
   "metadata": {
    "id": "kvHc_JEaR1Ig"
   },
   "outputs": [],
   "source": [
    "mobile_df.loc[mobile_df['event_name'].str.contains('search'), 'event_name'] = 'search'"
   ]
  },
  {
   "cell_type": "markdown",
   "metadata": {
    "id": "Cy4DUFV37akC"
   },
   "source": [
    "### Просмотр контакта"
   ]
  },
  {
   "cell_type": "markdown",
   "metadata": {
    "id": "0B5IQpse7q4x"
   },
   "source": [
    "В event_name есть два обозначения просмотра контактов - contacts_show и show_contacts. Объеденим их"
   ]
  },
  {
   "cell_type": "code",
   "execution_count": 14,
   "metadata": {
    "id": "csX0AN5k8Ptm"
   },
   "outputs": [],
   "source": [
    "mobile_df.loc[mobile_df['event_name'] == 'show_contacts', 'event_name'] = 'contacts_show'"
   ]
  },
  {
   "cell_type": "markdown",
   "metadata": {
    "id": "CXwzwKE3b-Yw"
   },
   "source": [
    "<div class=\"alert alert-block alert-success\">✔️\n",
    "    \n",
    "\n",
    "__Комментарий от тимлида №1__\n",
    "\n",
    "Действительно, данные события можно объединить\n",
    "</div>"
   ]
  },
  {
   "cell_type": "markdown",
   "metadata": {
    "id": "Vd8IO6lykQiK"
   },
   "source": [
    "## Объеденение датасетов"
   ]
  },
  {
   "cell_type": "markdown",
   "metadata": {
    "id": "sic6PR5ikcNG"
   },
   "source": [
    "Для удобства, создадим единый датасет - объеденим их по user_id"
   ]
  },
  {
   "cell_type": "code",
   "execution_count": 15,
   "metadata": {
    "id": "SeINYR1vkXts"
   },
   "outputs": [],
   "source": [
    "df = mobile_df.merge(\n",
    "    sourсes[['user_id', 'source']], on='user_id', how='left')"
   ]
  },
  {
   "cell_type": "markdown",
   "metadata": {
    "id": "Qqc3JI-4QR8m"
   },
   "source": [
    "**Данные готовы к работе**"
   ]
  },
  {
   "cell_type": "markdown",
   "metadata": {
    "id": "lOlOzzkpb-Yx"
   },
   "source": [
    "<div class=\"alert alert-block alert-success\">✔️\n",
    "    \n",
    "\n",
    "__Комментарий от тимлида №1__\n",
    "\n",
    "На этом этапе всё хорошо. Ты корректно выгрузила данные и посмотрелаих содержимое. Выполнила первичную проверку на пропуски и дубликаты. Можно приступать к следующему шагу\n",
    "</div>"
   ]
  },
  {
   "cell_type": "markdown",
   "metadata": {
    "id": "e_m-0w4eQyMU"
   },
   "source": [
    "# Исследовательский анализ данных"
   ]
  },
  {
   "cell_type": "markdown",
   "metadata": {
    "id": "-9oV4ghVWDmh"
   },
   "source": [
    "## Поведение пользователей"
   ]
  },
  {
   "cell_type": "markdown",
   "metadata": {
    "id": "kliYbK81WipH"
   },
   "source": [
    "### Retention Rate"
   ]
  },
  {
   "cell_type": "markdown",
   "metadata": {
    "id": "2geyjqH9Phix"
   },
   "source": [
    "#### Вычисления"
   ]
  },
  {
   "cell_type": "markdown",
   "metadata": {
    "id": "pkX_erZ1gleG"
   },
   "source": [
    "Для вычисления Retention Rate найдем дату первого посещения для каждого пользователя"
   ]
  },
  {
   "cell_type": "code",
   "execution_count": 16,
   "metadata": {
    "id": "8kfi2WLgg_Le"
   },
   "outputs": [],
   "source": [
    "df['session_start'] = df.loc[df.groupby('user_id')['event_time'].idxmin(),'event_time'] = df['event_time']"
   ]
  },
  {
   "cell_type": "markdown",
   "metadata": {
    "id": "2lbcR3I5t0e3"
   },
   "source": [
    "Найдем профили пользователей"
   ]
  },
  {
   "cell_type": "code",
   "execution_count": 17,
   "metadata": {
    "id": "gBLqm8QV8PwX"
   },
   "outputs": [],
   "source": [
    "profiles = (\n",
    "        df.sort_values(by=['user_id', 'session_start']) # сортируем сессии по id пользователя и дате первого посещения\n",
    "        .groupby('user_id') # группируем по ID и находим первые значения session_start и source\n",
    "        .agg({'session_start': 'first', 'source': 'first'})\n",
    "        .rename(columns={'session_start':'first_ts'}) # столбец с временем первого посещения назовём first_ts\n",
    "        .reset_index() # возвращаем user_id из индекса\n",
    "    ) \n",
    "\n",
    "profiles['dt'] = profiles['first_ts'].dt.date # определяем дату первого посещения\n",
    "profiles['day'] = profiles['first_ts'].astype('datetime64[D]') # и первый день месяца, в который это посещение произошло"
   ]
  },
  {
   "cell_type": "markdown",
   "metadata": {
    "id": "ZQ1DemIm3Ivb"
   },
   "source": [
    "Присоединяем session_start к профилям по столбцу user_id"
   ]
  },
  {
   "cell_type": "code",
   "execution_count": 18,
   "metadata": {
    "id": "5FEeJ01g3TxC"
   },
   "outputs": [],
   "source": [
    "result_raw = profiles.merge(\n",
    "    df[['user_id', 'session_start']], on='user_id', how='left')"
   ]
  },
  {
   "cell_type": "markdown",
   "metadata": {
    "id": "LCK41GWs6YEx"
   },
   "source": [
    "Вычисляем лайфтайм для каждой сессии в днях\n"
   ]
  },
  {
   "cell_type": "code",
   "execution_count": 19,
   "metadata": {
    "id": "iy4xdyB78PzZ"
   },
   "outputs": [],
   "source": [
    "result_raw['lifetime'] = (\n",
    "    result_raw['session_start'] - result_raw['first_ts']).dt.days"
   ]
  },
  {
   "cell_type": "markdown",
   "metadata": {
    "id": "DJzNYiYdKYtP"
   },
   "source": [
    "Cтроим таблицу удержания"
   ]
  },
  {
   "cell_type": "code",
   "execution_count": 20,
   "metadata": {
    "id": "raOekORfR1LC"
   },
   "outputs": [],
   "source": [
    "result_grouped = result_raw.pivot_table(\n",
    "    index=['dt'], columns='lifetime', values='user_id', aggfunc='nunique')"
   ]
  },
  {
   "cell_type": "markdown",
   "metadata": {
    "id": "njR0sfMkKi_9"
   },
   "source": [
    "Вычисляем размеры когорт"
   ]
  },
  {
   "cell_type": "code",
   "execution_count": 21,
   "metadata": {
    "id": "BkmKNKyqR1NZ"
   },
   "outputs": [],
   "source": [
    "cohort_sizes = (\n",
    "    result_raw.groupby('dt')\n",
    "    .agg({'user_id': 'nunique'})\n",
    "    .rename(columns={'user_id': 'cohort_size'}))"
   ]
  },
  {
   "cell_type": "markdown",
   "metadata": {
    "id": "cqV20teSKwTk"
   },
   "source": [
    "Объединяем размеры когорт и таблицу удержания"
   ]
  },
  {
   "cell_type": "code",
   "execution_count": 22,
   "metadata": {
    "id": "3EIohp08J08z"
   },
   "outputs": [],
   "source": [
    "result_grouped = cohort_sizes.merge(\n",
    "    result_grouped, on='dt', how='left').fillna(0)"
   ]
  },
  {
   "cell_type": "markdown",
   "metadata": {
    "id": "yb1AhmN5PH4b"
   },
   "source": [
    "Делим данные таблицы удержания на размеры когорт"
   ]
  },
  {
   "cell_type": "code",
   "execution_count": 23,
   "metadata": {
    "id": "Tf4OzcSwr6g-"
   },
   "outputs": [],
   "source": [
    "result_grouped = result_grouped.div(\n",
    "    result_grouped['cohort_size'], axis=0)"
   ]
  },
  {
   "cell_type": "markdown",
   "metadata": {
    "id": "ChjPxzcUPV-E"
   },
   "source": [
    "#### Визуализация"
   ]
  },
  {
   "cell_type": "code",
   "execution_count": 24,
   "metadata": {
    "colab": {
     "base_uri": "https://localhost:8080/",
     "height": 886
    },
    "id": "LjFp0sJ-OFep",
    "outputId": "21d76a38-4898-4e85-b977-bdac43bfb8e0"
   },
   "outputs": [
    {
     "data": {
      "image/png": "[encoded data removed]",
      "text/plain": [
       "<Figure size 2160x1080 with 2 Axes>"
      ]
     },
     "metadata": {
      "needs_background": "light"
     },
     "output_type": "display_data"
    }
   ],
   "source": [
    "plt.figure(figsize=(30, 15))  # задаём размер графика\n",
    "sns.heatmap(\n",
    "    result_grouped.drop(columns=['cohort_size', 0]),  # удаляем размеры когорт и первый день\n",
    "    annot=True,  # включаем подписи\n",
    "    fmt='.2%',  # переводим значения в проценты\n",
    ")\n",
    "plt.title('Тепловая карта удержания', fontsize=20) \n",
    "plt.ylabel('Дата', fontsize=15)\n",
    "plt.xlabel('Дни', fontsize=15)\n",
    "plt.show()"
   ]
  },
  {
   "cell_type": "markdown",
   "metadata": {
    "id": "oLDN-x_MTYWa"
   },
   "source": [
    "**На второй день процент возврата составляет максимум 17%, а на третий 16%. Хорошие результы мы видим у кагорты от 17.10 - ее показатели хоть и лучшие, но достаточно стабильные.**"
   ]
  },
  {
   "cell_type": "markdown",
   "metadata": {
    "id": "3LneqI6_b-Y2"
   },
   "source": [
    "<div class=\"alert alert-block alert-success\">✔️\n",
    "    \n",
    "\n",
    "__Комментарий от тимлида №1__\n",
    "\n",
    "Отлично! Retention rate рассчитан верно и тепловая карта оформлена корректно\n",
    "</div>"
   ]
  },
  {
   "cell_type": "markdown",
   "metadata": {
    "id": "S4krVMFbY5tp"
   },
   "source": [
    "### Время, проведённое в приложении"
   ]
  },
  {
   "cell_type": "markdown",
   "metadata": {
    "id": "fQjIlI1E_su1"
   },
   "source": [
    "#### Общее время пользователя"
   ]
  },
  {
   "cell_type": "markdown",
   "metadata": {
    "id": "DrjIuKZ4NCCz"
   },
   "source": [
    "##### Вычисления"
   ]
  },
  {
   "cell_type": "markdown",
   "metadata": {
    "id": "ba_yaUyheS63"
   },
   "source": [
    "Вычислим время, проведенное на странице, руководствуясь временем посещения следующей страницы"
   ]
  },
  {
   "cell_type": "code",
   "execution_count": 25,
   "metadata": {
    "id": "2j5n5-WDUdQs"
   },
   "outputs": [],
   "source": [
    "df['time_on_page'] = df.groupby(['session_id'])['event_time'].diff(1) #считаем разницу между предыдущей и следующей страницей внутри сессии\n",
    "df['time_on_page'] = df.groupby(['session_id'])['time_on_page'].shift(-1) #сдвигаем значение столбца time_on_page на одну строку вверх внутри отдельно взятой сессии\n",
    "df['time_on_page'] = df['time_on_page'].dt.seconds/60 #переводим время в минуты"
   ]
  },
  {
   "cell_type": "markdown",
   "metadata": {
    "id": "UTECBnsGmpvG"
   },
   "source": [
    "Найдем время и количество сессий для каждого клиента"
   ]
  },
  {
   "cell_type": "code",
   "execution_count": 26,
   "metadata": {
    "id": "XvOgIJSEUdV1"
   },
   "outputs": [],
   "source": [
    "time_by_user = df.pivot_table(values='time_on_page', index='user_id', aggfunc='sum') #суммарное время для каждого пользователя \n",
    "time_by_user['sessions'] = df.pivot_table(values='session_id', index='user_id', aggfunc='nunique') #количество сессий для каждого пользователя\n",
    "time_by_user = time_by_user[time_by_user['time_on_page'] != 0] #удаляем нулевые значения\n",
    "time_by_user['user_id'] = time_by_user.index"
   ]
  },
  {
   "cell_type": "markdown",
   "metadata": {
    "id": "SjgIsnM0sWzy"
   },
   "source": [
    "Визуализируем время для каждого пользователя и количество сессий "
   ]
  },
  {
   "cell_type": "markdown",
   "metadata": {
    "id": "qWGcR9FnNI0B"
   },
   "source": [
    "##### Визуализация"
   ]
  },
  {
   "cell_type": "code",
   "execution_count": 27,
   "metadata": {
    "colab": {
     "base_uri": "https://localhost:8080/",
     "height": 623
    },
    "id": "ddgCC6Zq5Z5V",
    "outputId": "a2daf9c3-cafc-48a1-9457-4be06477c032"
   },
   "outputs": [
    {
     "data": {
      "image/png": "[encoded data removed]",
      "text/plain": [
       "<Figure size 1440x720 with 1 Axes>"
      ]
     },
     "metadata": {
      "needs_background": "light"
     },
     "output_type": "display_data"
    }
   ],
   "source": [
    "plt.figure(figsize=(20,10))\n",
    "\n",
    "sns.boxplot(data=time_by_user['time_on_page'], color='#c03c4d')\n",
    "\n",
    "plt.ylim(0,150)\n",
    "plt.title('Время, проведенное в приложении', fontsize=15)\n",
    "plt.xlabel('Пользователи', fontsize=10)\n",
    "plt.ylabel('Время в минутах', fontsize=10)\n",
    "\n",
    "plt.show()"
   ]
  },
  {
   "cell_type": "markdown",
   "metadata": {
    "id": "eQjK3yOZb-Y4"
   },
   "source": [
    "<div class=\"alert alert-block alert-warning\">📝\n",
    "    \n",
    "\n",
    "__Комментарий от тимлида №1__\n",
    "\n",
    "\n",
    "Неплохо бы сократить range, чтобы увидеть распределение\n",
    "</div>"
   ]
  },
  {
   "cell_type": "markdown",
   "metadata": {
    "id": "jKTNcXz1_et5"
   },
   "source": [
    "<div class=\"alert alert-info\"> <b>Комментарии студента:</b> Исправила ✔</div>"
   ]
  },
  {
   "cell_type": "code",
   "execution_count": 28,
   "metadata": {
    "colab": {
     "base_uri": "https://localhost:8080/"
    },
    "id": "_yMr9IL_Emsv",
    "outputId": "15c596b6-ba8e-4528-bde4-a6b151a4fcf0"
   },
   "outputs": [
    {
     "data": {
      "text/plain": [
       "count   4204.000\n",
       "mean      34.424\n",
       "std       70.423\n",
       "min        0.017\n",
       "25%        6.613\n",
       "50%       16.300\n",
       "75%       36.933\n",
       "max     1886.550\n",
       "Name: time_on_page, dtype: float64"
      ]
     },
     "execution_count": 28,
     "metadata": {},
     "output_type": "execute_result"
    }
   ],
   "source": [
    "time_by_user['time_on_page'].describe()"
   ]
  },
  {
   "cell_type": "markdown",
   "metadata": {
    "id": "Kf9mrSdox3f5"
   },
   "source": [
    "Среднее суммарное время для пользователей - 34,42, а медианное - 16,3. Медиана для нас более предпочительна, так как у в распределении явно имеют место быть истинные фанаты приложения."
   ]
  },
  {
   "cell_type": "code",
   "execution_count": 29,
   "metadata": {
    "colab": {
     "base_uri": "https://localhost:8080/"
    },
    "id": "XWmS1CVTxno0",
    "outputId": "353fa91f-e391-4839-ac2a-3a9d1f2c7528"
   },
   "outputs": [
    {
     "data": {
      "text/plain": [
       "count   4204.000\n",
       "mean       2.353\n",
       "std        3.383\n",
       "min        1.000\n",
       "25%        1.000\n",
       "50%        1.000\n",
       "75%        2.000\n",
       "max       93.000\n",
       "Name: sessions, dtype: float64"
      ]
     },
     "execution_count": 29,
     "metadata": {},
     "output_type": "execute_result"
    }
   ],
   "source": [
    "time_by_user['sessions'].describe()"
   ]
  },
  {
   "cell_type": "markdown",
   "metadata": {
    "id": "Eg4a8wEjx46n"
   },
   "source": [
    "Среднее количество сессий пользователей - 2,3, а медианное - 1. В прочем, есть и рекорсмены - максимальное количество сессий - 93."
   ]
  },
  {
   "cell_type": "markdown",
   "metadata": {
    "id": "SVmKtPUcb-Y5"
   },
   "source": [
    "<div class=\"alert alert-block alert-danger\">✍\n",
    "    \n",
    "\n",
    "__Комментарий от тимлида №1__\n",
    "\n",
    "В данном шаге нам нужно рассмотреть распределение времени сессий пользоваталей. Например сравнить среднее и медианное. Подумать о распределении сессий и т.п.\n",
    "</div>"
   ]
  },
  {
   "cell_type": "markdown",
   "metadata": {
    "id": "tIWYBp_WzEZM"
   },
   "source": [
    "<div class=\"alert alert-info\"> <b>Комментарии студента:</b> Исследовала ниже ✔ Так же изменила типы графиков в этом разделе с гистограммы на ящик с усами </div>"
   ]
  },
  {
   "cell_type": "markdown",
   "metadata": {
    "id": "uMJSwUOVwUQm"
   },
   "source": [
    "#### Время сессий "
   ]
  },
  {
   "cell_type": "markdown",
   "metadata": {
    "id": "tyUl_BoQyuUm"
   },
   "source": [
    "Посчитаем длительность каждой сессии "
   ]
  },
  {
   "cell_type": "code",
   "execution_count": 30,
   "metadata": {
    "id": "Y9Hv7TyowcvV"
   },
   "outputs": [],
   "source": [
    "time_by_session = df.pivot_table(values='time_on_page', index='session_id', aggfunc='sum').reset_index() #суммарное время каждой сессии"
   ]
  },
  {
   "cell_type": "markdown",
   "metadata": {
    "id": "2nnlP1HcNa-D"
   },
   "source": [
    "Проверим распределение нулевых значений по событиям"
   ]
  },
  {
   "cell_type": "code",
   "execution_count": 31,
   "metadata": {
    "colab": {
     "base_uri": "https://localhost:8080/",
     "height": 191
    },
    "id": "qMTHdwK-MpYj",
    "outputId": "3f550a65-0071-42f9-cc1d-4604d6363ec0"
   },
   "outputs": [
    {
     "data": {
      "text/plain": [
       "photos_show      895\n",
       "tips_show        367\n",
       "search           238\n",
       "map              176\n",
       "contacts_show    172\n",
       "advert_open       54\n",
       "favorites_add     12\n",
       "contacts_call      8\n",
       "tips_click         5\n",
       "Name: event_name, dtype: int64"
      ]
     },
     "metadata": {},
     "output_type": "display_data"
    }
   ],
   "source": [
    "display (df['event_name'][df['time_on_page']==0].value_counts())"
   ]
  },
  {
   "cell_type": "markdown",
   "metadata": {
    "id": "sW59au4vNj4l"
   },
   "source": [
    "Так как нулевые значения встречаются на всех событиях, можем предположить, что это системный сбой. Исключим их перед визулизацией:"
   ]
  },
  {
   "cell_type": "code",
   "execution_count": 32,
   "metadata": {
    "id": "gf0_XvR1Nym7"
   },
   "outputs": [],
   "source": [
    "time_by_session = time_by_session[time_by_session['time_on_page'] != 0] "
   ]
  },
  {
   "cell_type": "markdown",
   "metadata": {
    "id": "esuM1Hd4zAeM"
   },
   "source": [
    "Визуализируем распределение количества времени сессий"
   ]
  },
  {
   "cell_type": "code",
   "execution_count": 33,
   "metadata": {
    "colab": {
     "base_uri": "https://localhost:8080/",
     "height": 623
    },
    "id": "uz13Nhd56SRM",
    "outputId": "21967810-fdba-40c9-a647-3b4cf35e1066"
   },
   "outputs": [
    {
     "data": {
      "image/png": "[encoded data removed]",
      "text/plain": [
       "<Figure size 1440x720 with 1 Axes>"
      ]
     },
     "metadata": {
      "needs_background": "light"
     },
     "output_type": "display_data"
    }
   ],
   "source": [
    "plt.figure(figsize=(20,10))\n",
    "\n",
    "sns.boxplot(data=time_by_session['time_on_page'], color='#cc9d9d')\n",
    "\n",
    "plt.ylim(0,100)\n",
    "plt.title('Время сессий', fontsize=15)\n",
    "plt.xlabel('Сессии', fontsize=10)\n",
    "plt.ylabel('Время в минутах', fontsize=10)\n",
    "\n",
    "plt.show()"
   ]
  },
  {
   "cell_type": "code",
   "execution_count": 34,
   "metadata": {
    "colab": {
     "base_uri": "https://localhost:8080/"
    },
    "id": "XueLPbnf3Pb_",
    "outputId": "4d684e9f-63aa-4881-a489-d0f44e400ca8"
   },
   "outputs": [
    {
     "data": {
      "text/plain": [
       "count   8022.000\n",
       "mean      18.040\n",
       "std       24.529\n",
       "min        0.017\n",
       "25%        3.350\n",
       "50%        9.825\n",
       "75%       23.567\n",
       "max      365.233\n",
       "Name: time_on_page, dtype: float64"
      ]
     },
     "execution_count": 34,
     "metadata": {},
     "output_type": "execute_result"
    }
   ],
   "source": [
    "time_by_session['time_on_page'].describe()"
   ]
  },
  {
   "cell_type": "markdown",
   "metadata": {
    "id": "aAt-kJiV302k"
   },
   "source": [
    "Среднее время сессии - 18 минут, а медианное - 10. Выбросов, как и в графике распределения общего времени, достаточно много. "
   ]
  },
  {
   "cell_type": "markdown",
   "metadata": {
    "id": "_eGHqOcNLxR1"
   },
   "source": [
    "<div class=\"alert alert-block alert-warning\">📝\n",
    "    \n",
    "\n",
    "__Комментарий от тимлида №2__\n",
    "\n",
    "\n",
    "Здесь еще бы посмотреть что за события были в нулевой сессии. Возможно пользователь просто открыл приложение, появилась рекомендация `tips_show` и на этом его активность закончилась, тогда это не программный сбой.\n",
    "</div>"
   ]
  },
  {
   "cell_type": "markdown",
   "metadata": {
    "id": "H_INkjgxPoI6"
   },
   "source": [
    "<div class=\"alert alert-info\"> <b>Комментарии студента:</b> Исследовала выше ✔ </div>"
   ]
  },
  {
   "cell_type": "markdown",
   "metadata": {
    "id": "0zaVpQ5zM97z"
   },
   "source": [
    "### Частота действий"
   ]
  },
  {
   "cell_type": "markdown",
   "metadata": {
    "id": "qGaThJSqaswQ"
   },
   "source": [
    "#### Вычисления"
   ]
  },
  {
   "cell_type": "markdown",
   "metadata": {
    "id": "8Z8xAoFNOEQU"
   },
   "source": [
    "Создадим таблицу с количеством дейcтвий для каждого пользователя - *events*, сгруппировав их про *user_id*"
   ]
  },
  {
   "cell_type": "code",
   "execution_count": 35,
   "metadata": {
    "id": "-9Q6RQ6GUddn"
   },
   "outputs": [],
   "source": [
    "events = (\n",
    "    df.groupby(['user_id'])\n",
    "    .agg({'event_name': 'count'})\n",
    "    .rename(columns={'event_name': 'events'})\n",
    "    .sort_values(by='events', ascending = False)\n",
    "    .reset_index())"
   ]
  },
  {
   "cell_type": "markdown",
   "metadata": {
    "id": "C-woANWYZqXY"
   },
   "source": [
    "Так же будет полезно посмотреть, какие действия в целом наиболее популярны. Для этого сгруппируем действия и определим количество юзеров для каждого из них:"
   ]
  },
  {
   "cell_type": "code",
   "execution_count": 36,
   "metadata": {
    "id": "fkPPyQy4SeY3"
   },
   "outputs": [],
   "source": [
    "event_distribution = (\n",
    "    df.groupby(['event_name'])\n",
    "    .agg({'user_id': 'count'})\n",
    "    .rename(columns={'user_id': 'users'})\n",
    "    .sort_values(by='users', ascending = False)\n",
    "    .reset_index())"
   ]
  },
  {
   "cell_type": "markdown",
   "metadata": {
    "id": "wuEVv-6sAf5n"
   },
   "source": [
    "Так же сгруппируем количество событий по дням недели:"
   ]
  },
  {
   "cell_type": "code",
   "execution_count": 37,
   "metadata": {
    "id": "UEyTuoiVV7dl"
   },
   "outputs": [],
   "source": [
    "df_date = copy.copy(df)\n",
    "df_date['event_time'] = df_date['event_time'].dt.day_name()\n",
    "\n",
    "event_date = (\n",
    "     df_date.groupby(['event_time'])\n",
    "    .agg({'event_name': 'count'})\n",
    "    .rename(columns={'event_name': 'events'})\n",
    "    .sort_values (by='events', ascending = False)\n",
    "    .reset_index())"
   ]
  },
  {
   "cell_type": "markdown",
   "metadata": {
    "id": "3BW-22G0avvY"
   },
   "source": [
    "#### Визуализация"
   ]
  },
  {
   "cell_type": "code",
   "execution_count": 38,
   "metadata": {
    "colab": {
     "base_uri": "https://localhost:8080/",
     "height": 623
    },
    "id": "eFFZ04nm91sc",
    "outputId": "ef1f314e-4955-42c6-b1a5-b3cd3c45169b"
   },
   "outputs": [
    {
     "data": {
      "image/png": "[encoded data removed]",
      "text/plain": [
       "<Figure size 1440x720 with 1 Axes>"
      ]
     },
     "metadata": {
      "needs_background": "light"
     },
     "output_type": "display_data"
    }
   ],
   "source": [
    "plt.figure(figsize=(20,10))\n",
    "\n",
    "sns.boxplot(data=events['events'], color='#761431')\n",
    "\n",
    "plt.ylim(0,50)\n",
    "plt.title('Количество действий', fontsize=15)\n",
    "plt.xlabel('Пользователи', fontsize=10)\n",
    "plt.ylabel('Действия', fontsize=10)\n",
    "\n",
    "plt.show()"
   ]
  },
  {
   "cell_type": "code",
   "execution_count": 39,
   "metadata": {
    "colab": {
     "base_uri": "https://localhost:8080/"
    },
    "id": "lJhEA46T-bB8",
    "outputId": "de906e7d-2bd1-46ae-de1c-907bdd76ad89"
   },
   "outputs": [
    {
     "data": {
      "text/plain": [
       "count   4293.000\n",
       "mean      17.283\n",
       "std       29.131\n",
       "min        1.000\n",
       "25%        5.000\n",
       "50%        9.000\n",
       "75%       17.000\n",
       "max      478.000\n",
       "Name: events, dtype: float64"
      ]
     },
     "execution_count": 39,
     "metadata": {},
     "output_type": "execute_result"
    }
   ],
   "source": [
    "events['events'].describe()"
   ]
  },
  {
   "cell_type": "markdown",
   "metadata": {
    "id": "DKsGzzQicej0"
   },
   "source": [
    "В среднем, пользователи делают 17 действий, а медианно - 9. Выбросов, как и раньше, достаточно много. Однако, такое распределение подтверждается распределением количества сессий для пользователя."
   ]
  },
  {
   "cell_type": "code",
   "execution_count": 40,
   "metadata": {
    "colab": {
     "base_uri": "https://localhost:8080/",
     "height": 415
    },
    "id": "blqu3rYoUdiS",
    "outputId": "dce50605-6a8f-4e33-ffee-77dfec720935"
   },
   "outputs": [
    {
     "data": {
      "image/png": "[encoded data removed]",
      "text/plain": [
       "<Figure size 720x360 with 1 Axes>"
      ]
     },
     "metadata": {
      "needs_background": "light"
     },
     "output_type": "display_data"
    }
   ],
   "source": [
    "event_distribution.sort_values(by='users', ascending=False).plot(\n",
    "    x='event_name', y='users',\n",
    "    kind='bar', figsize=(10, 5), grid=True,\n",
    "    color = '#d45468', fontsize=10\n",
    ") \n",
    "\n",
    "plt.title('Количество действий', fontsize=15)\n",
    "plt.ylabel('Количество', fontsize=10)\n",
    "plt.xlabel('Действия', fontsize=10)\n",
    "plt.show()"
   ]
  },
  {
   "cell_type": "markdown",
   "metadata": {
    "id": "YvxcnZLexpId"
   },
   "source": [
    "**Самое частое действие - просмотр рекомендованных объявлений - более 40 000.** Это неудивитльно, это одна из основных механик приложения.**На втором месте просмотр фото в объявлении - 10 000, в 4 раза реже просмотра.** Далее частота снижается более плавно. **До показа контакта доходят менее 5000, а до звонка напрямую из приложения - немногим более 500.**"
   ]
  },
  {
   "cell_type": "markdown",
   "metadata": {
    "id": "wYxMLkKhb-Y7"
   },
   "source": [
    "<div class=\"alert alert-block alert-warning\">📝\n",
    "    \n",
    "\n",
    "__Комментарий от тимлида №1__\n",
    "\n",
    "\n",
    "Также хорошо бы рассмотреть динамику частоты событий по дням\n",
    "</div>"
   ]
  },
  {
   "cell_type": "markdown",
   "metadata": {
    "id": "L0XB5tcEBTQW"
   },
   "source": [
    "<div class=\"alert alert-info\"> <b>Комментарии студента:</b> Исследовала ниже ✔ </div>"
   ]
  },
  {
   "cell_type": "code",
   "execution_count": 41,
   "metadata": {
    "colab": {
     "base_uri": "https://localhost:8080/",
     "height": 400
    },
    "id": "OT7EEtRsBSqD",
    "outputId": "c0082589-561d-4114-f00c-6340de3f16a9"
   },
   "outputs": [
    {
     "data": {
      "image/png": "[encoded data removed]",
      "text/plain": [
       "<Figure size 720x360 with 1 Axes>"
      ]
     },
     "metadata": {
      "needs_background": "light"
     },
     "output_type": "display_data"
    }
   ],
   "source": [
    "event_date.plot(\n",
    "    x='event_time', y='events',\n",
    "    kind='bar', figsize=(10, 5), grid=True,\n",
    "    color = '#d45468', fontsize=10\n",
    ") \n",
    "\n",
    "plt.title('Количество действий по дням недели', fontsize=15)\n",
    "plt.ylabel('Количество действий', fontsize=10)\n",
    "plt.xlabel('Дни недели', fontsize=10)\n",
    "\n",
    "plt.show()"
   ]
  },
  {
   "cell_type": "markdown",
   "metadata": {
    "id": "vFdvwFvpI4BV"
   },
   "source": [
    "Самые активные дни - понедельник и вторник."
   ]
  },
  {
   "cell_type": "markdown",
   "metadata": {
    "id": "USRhnFDqLxR6"
   },
   "source": [
    "<div class=\"alert alert-block alert-success\">✔️\n",
    "    \n",
    "\n",
    "__Комментарий от тимлида №2__\n",
    "\n",
    "Во многих продуктах в выходные наблюдается спад активности. Все стараются максимально использовать это время для отдыха, семьи и т.д. Так что вполне логичные результаты.\n",
    "    \n",
    "\n",
    "</div>"
   ]
  },
  {
   "cell_type": "markdown",
   "metadata": {
    "id": "qVyRkBoF0BVp"
   },
   "source": [
    "### Конверсия в целевое действие"
   ]
  },
  {
   "cell_type": "markdown",
   "metadata": {
    "id": "6lEphOKyb-Y9"
   },
   "source": [
    "<div class=\"alert alert-block alert-danger\">✍\n",
    "    \n",
    "\n",
    "__Комментарий от тимлида №1__\n",
    "\n",
    "Здорово, что используешь такой инструмент как Funnel. Но были упущены некоторые нюансы:\n",
    "\n",
    "* Воронка строится по количеству уникальных пользователей, а не по количеству событий.  Исследование воронки позволяет визуализировать шаги пользователей на пути к выполнению целевого действия, насколько успешно клиенты проходят каждый из этапов.\n",
    "    \n",
    "* Воронка должна завершаться целевым действием contacts_show. Тебе надо самостоятельно задать очередность этапов. Это можно реализовать с помощью `reindex()` - https://pandas.pydata.org/docs/reference/api/pandas.DataFrame.reindex.html\n",
    "    \n",
    "    \n",
    "---\n",
    "    \n",
    "Я об этом говорил на созвоне. Здесь нет строгой воронки и много точек входа в целевое действие. Если и строить воронку, то рассматривать какие то отдельные сценарии из набора 3-4 действий. \n",
    "\n",
    "Например `tips_show -> tips_click - > contacts_show`, либо `search -> adverts_open -> contacts_show` или `search -> adverts_open -> favorits_add -> contacts_show`. Но это не в рамках твоей задачи.\n",
    "</div>"
   ]
  },
  {
   "cell_type": "markdown",
   "metadata": {
    "id": "LwCtGVm54s6t"
   },
   "source": [
    "<div class=\"alert alert-info\"> <b>Комментарии студента:</b> Решила убрать воронку в этой версии ✔ </div>"
   ]
  },
  {
   "cell_type": "markdown",
   "metadata": {
    "id": "fQLftEB_LxR7"
   },
   "source": [
    "<div class=\"alert alert-block alert-success\">✔️\n",
    "    \n",
    "\n",
    "__Комментарий от тимлида №2__\n",
    "\n",
    "xD Настоящий аналитик - чем проще - тем лучше)\n",
    "</div>"
   ]
  },
  {
   "cell_type": "markdown",
   "metadata": {
    "id": "3axWSqdYRdUE"
   },
   "source": [
    "Найдем количество уникальных юзеров для каждого события"
   ]
  },
  {
   "cell_type": "code",
   "execution_count": 42,
   "metadata": {
    "id": "Ec4N_FEwlWjg"
   },
   "outputs": [],
   "source": [
    "def users_by_event(event):\n",
    "    users = df[df['event_name'] == event]['user_id'].nunique() \n",
    "    return users\n",
    "\n",
    "event_distribution['users'] = event_distribution['event_name'].apply(users_by_event) #количество уникальных юзеров\n",
    "event_distribution['percent'] = event_distribution['users'].apply(lambda x: round(x/df['user_id'].nunique()*100, 2)) #процент юзеров"
   ]
  },
  {
   "cell_type": "markdown",
   "metadata": {
    "id": "i67dFFDyb-Y-"
   },
   "source": [
    "<div class=\"alert alert-block alert-success\">✔️\n",
    "    \n",
    "\n",
    "__Комментарий от тимлида №1__\n",
    "\n",
    "Здорово, что используешь собственные функции\n",
    "</div>"
   ]
  },
  {
   "cell_type": "markdown",
   "metadata": {
    "id": "PnEuco5EU-XI"
   },
   "source": [
    "Визуализируем конверсию уникальных пользователей в события"
   ]
  },
  {
   "cell_type": "code",
   "execution_count": 43,
   "metadata": {
    "colab": {
     "base_uri": "https://localhost:8080/",
     "height": 415
    },
    "id": "7qnifhyWRB5p",
    "outputId": "2ffad0c9-7f42-4a42-f78f-ba85ec621e1b"
   },
   "outputs": [
    {
     "data": {
      "image/png": "[encoded data removed]",
      "text/plain": [
       "<Figure size 720x360 with 1 Axes>"
      ]
     },
     "metadata": {
      "needs_background": "light"
     },
     "output_type": "display_data"
    }
   ],
   "source": [
    "event_distribution.sort_values(by='percent', ascending=False).plot(\n",
    "    x='event_name', y='percent',\n",
    "    kind='bar', figsize=(10, 5), grid=True,\n",
    "    fontsize=10, color=('#04548c')\n",
    ") \n",
    "\n",
    "plt.title('Действия уникальных пользователей', fontsize=15)\n",
    "plt.ylabel('Процент', fontsize=10)\n",
    "plt.xlabel('Действия', fontsize=10)\n",
    "plt.show()"
   ]
  },
  {
   "cell_type": "code",
   "execution_count": 44,
   "metadata": {
    "colab": {
     "base_uri": "https://localhost:8080/",
     "height": 332
    },
    "id": "t2a1uMsK8e0S",
    "outputId": "019a2649-e4f1-428d-8e97-cafb899a1383"
   },
   "outputs": [
    {
     "data": {
      "text/html": [
       "<div>\n",
       "<style scoped>\n",
       "    .dataframe tbody tr th:only-of-type {\n",
       "        vertical-align: middle;\n",
       "    }\n",
       "\n",
       "    .dataframe tbody tr th {\n",
       "        vertical-align: top;\n",
       "    }\n",
       "\n",
       "    .dataframe thead th {\n",
       "        text-align: right;\n",
       "    }\n",
       "</style>\n",
       "<table border=\"1\" class=\"dataframe\">\n",
       "  <thead>\n",
       "    <tr style=\"text-align: right;\">\n",
       "      <th></th>\n",
       "      <th>event_name</th>\n",
       "      <th>users</th>\n",
       "      <th>percent</th>\n",
       "    </tr>\n",
       "  </thead>\n",
       "  <tbody>\n",
       "    <tr>\n",
       "      <th>0</th>\n",
       "      <td>tips_show</td>\n",
       "      <td>2801</td>\n",
       "      <td>65.250</td>\n",
       "    </tr>\n",
       "    <tr>\n",
       "      <th>1</th>\n",
       "      <td>photos_show</td>\n",
       "      <td>1095</td>\n",
       "      <td>25.510</td>\n",
       "    </tr>\n",
       "    <tr>\n",
       "      <th>2</th>\n",
       "      <td>search</td>\n",
       "      <td>1666</td>\n",
       "      <td>38.810</td>\n",
       "    </tr>\n",
       "    <tr>\n",
       "      <th>3</th>\n",
       "      <td>advert_open</td>\n",
       "      <td>751</td>\n",
       "      <td>17.490</td>\n",
       "    </tr>\n",
       "    <tr>\n",
       "      <th>4</th>\n",
       "      <td>contacts_show</td>\n",
       "      <td>981</td>\n",
       "      <td>22.850</td>\n",
       "    </tr>\n",
       "    <tr>\n",
       "      <th>5</th>\n",
       "      <td>map</td>\n",
       "      <td>1456</td>\n",
       "      <td>33.920</td>\n",
       "    </tr>\n",
       "    <tr>\n",
       "      <th>6</th>\n",
       "      <td>favorites_add</td>\n",
       "      <td>351</td>\n",
       "      <td>8.180</td>\n",
       "    </tr>\n",
       "    <tr>\n",
       "      <th>7</th>\n",
       "      <td>tips_click</td>\n",
       "      <td>322</td>\n",
       "      <td>7.500</td>\n",
       "    </tr>\n",
       "    <tr>\n",
       "      <th>8</th>\n",
       "      <td>contacts_call</td>\n",
       "      <td>213</td>\n",
       "      <td>4.960</td>\n",
       "    </tr>\n",
       "  </tbody>\n",
       "</table>\n",
       "</div>"
      ],
      "text/plain": [
       "      event_name  users  percent\n",
       "0      tips_show   2801   65.250\n",
       "1    photos_show   1095   25.510\n",
       "2         search   1666   38.810\n",
       "3    advert_open    751   17.490\n",
       "4  contacts_show    981   22.850\n",
       "5            map   1456   33.920\n",
       "6  favorites_add    351    8.180\n",
       "7     tips_click    322    7.500\n",
       "8  contacts_call    213    4.960"
      ]
     },
     "execution_count": 44,
     "metadata": {},
     "output_type": "execute_result"
    }
   ],
   "source": [
    "event_distribution"
   ]
  },
  {
   "cell_type": "markdown",
   "metadata": {
    "id": "DfuuGxiJbKmu"
   },
   "source": [
    "**Конверсия уникального пользователя в целевое действие 22.85%**"
   ]
  },
  {
   "cell_type": "markdown",
   "metadata": {
    "id": "I4If8MfNb-Y-"
   },
   "source": [
    "<div class=\"alert alert-block alert-danger\">✍\n",
    "    \n",
    "\n",
    "__Комментарий от тимлида №1__\n",
    "\n",
    "А откуда взята эта цифра? Какими расчётами подкреплена?\n",
    "</div>"
   ]
  },
  {
   "cell_type": "markdown",
   "metadata": {
    "id": "uoIrhyyp7KPR"
   },
   "source": [
    "<div class=\"alert alert-info\"> <b>Комментарии студента:</b> Эти расчеты сделала в event_distribution, столбец percent. Визулизировала таблицу после графика выше </div>"
   ]
  },
  {
   "cell_type": "markdown",
   "metadata": {
    "id": "uVUGPbwFb-Y_"
   },
   "source": [
    "<div class=\"alert alert-block alert-danger\">✍\n",
    "    \n",
    "\n",
    "__Комментарий от тимлида №1__\n",
    "\n",
    "Также тут важно дать вывод по общему поведению пользоватей. Что они из себя представляют?\n",
    "</div>"
   ]
  },
  {
   "cell_type": "markdown",
   "metadata": {
    "id": "DBOZc0ZO944S"
   },
   "source": [
    "<div class=\"alert alert-info\"> <b>Комментарии студента:</b> Добавила ниже ✔ </div>"
   ]
  },
  {
   "cell_type": "markdown",
   "metadata": {
    "id": "gHi97TXX-YbS"
   },
   "source": [
    "### Вывод о поведении пользователей"
   ]
  },
  {
   "cell_type": "markdown",
   "metadata": {
    "id": "y3SlfyHWUjP8"
   },
   "source": [
    "Выводы о поведении пользователей в приложении:\n",
    "*   Медианное суммарное время в приложении около 16 минут\n",
    "*   Медианное время сессии - 10 минут \n",
    "*   Типичный пользователь провел 1 сессию и совершил 9 действий в прилолжении\n",
    "*   Самые часто выполняемые действия - просмотр рекомендованных объявлений, просмотр фото в объявлении и поиск\n",
    "*   Самые активные дни недели в приложении - понедельник и вторник\n",
    "*   22.85 % уникальных пользователей выполняют ключевое действие - просмотр контактов\n",
    "\n",
    "\n",
    "\n",
    "\n",
    "\n",
    "\n"
   ]
  },
  {
   "cell_type": "markdown",
   "metadata": {
    "id": "pB9RAb0TLxR-"
   },
   "source": [
    "<div class=\"alert alert-block alert-success\">✔️\n",
    "    \n",
    "\n",
    "__Комментарий от тимлида №2__\n",
    "\n",
    "Грамотно проведенный этап. Все пункты рассмотрены. Молодец!\n",
    "</div>"
   ]
  },
  {
   "cell_type": "markdown",
   "metadata": {
    "id": "wQ8HECfSXg-r"
   },
   "source": [
    "# Сегментация пользователей"
   ]
  },
  {
   "cell_type": "markdown",
   "metadata": {
    "id": "yoa397SoX-Id"
   },
   "source": [
    "Наиболее яркая и показательная для нас метрика - количество действий в приложении. За параметром количества дейстсвий в приложении мы можем проследить вовлеченность пользователя, а так же его намерения.  Более того, она перекликается со временем, проведенным в приложении, что для нас так же важно.\n",
    "\n",
    "Предположительно, возвращаемость пользователей с наибольшим количеством действий лучше, чем у остальных, однако конверсия в целевое действие - меньше. \n",
    "Проверим это предположение ниже.\n",
    "\n",
    "Разделим пользователей на три группы:\n",
    "\n",
    "1.   От 1 до 9 действий (group1). \"Медианные\" пользователи \n",
    "2.   От 9 до 17 действий (group2). \"Средние\" пользователи \n",
    "3.   От 17 действий (group3). Пользователи \"выше среднего\"\n",
    "\n"
   ]
  },
  {
   "cell_type": "markdown",
   "metadata": {
    "id": "tdrJ3Aj6b-Y_"
   },
   "source": [
    "<div class=\"alert alert-block alert-danger\">✍\n",
    "    \n",
    "\n",
    "__Комментарий от тимлида №1__\n",
    "    \n",
    "В реальной практике тебе придется обосновать почему именно такое разделение. Чем полезно будет исследовать такие группы пользователей для заказчика? Было бы неплохо развернуто расписать свою идею) Предположить какие результаты получишь и сравнивать ожидание\\реальность\n",
    "\n",
    "</div>"
   ]
  },
  {
   "cell_type": "markdown",
   "metadata": {
    "id": "IN6HP4XtbaF3"
   },
   "source": [
    "<div class=\"alert alert-info\"> <b>Комментарии студента:</b> Расписала выше ✔ </div>"
   ]
  },
  {
   "cell_type": "markdown",
   "metadata": {
    "id": "EvkEBGQULxR_"
   },
   "source": [
    "<div class=\"alert alert-block alert-success\">✔️\n",
    "    \n",
    "\n",
    "__Комментарий от тимлида №2__\n",
    "\n",
    "Очень хорошо, что обосновал свой выбор сегментации\n",
    "</div>"
   ]
  },
  {
   "cell_type": "code",
   "execution_count": 45,
   "metadata": {
    "id": "bZstsEx7RB8l"
   },
   "outputs": [],
   "source": [
    "def group(x): \n",
    "    if x <= 9:\n",
    "        return 'group1'\n",
    "    elif x > 9 and x <= 17:\n",
    "        return 'group2'\n",
    "    else:\n",
    "        return 'group3'\n",
    "\n",
    "events['group'] = events['events'].apply(group) "
   ]
  },
  {
   "cell_type": "markdown",
   "metadata": {
    "id": "tM9RbYuhi1eZ"
   },
   "source": [
    "Проверим распределение по группам"
   ]
  },
  {
   "cell_type": "code",
   "execution_count": 46,
   "metadata": {
    "colab": {
     "base_uri": "https://localhost:8080/",
     "height": 175
    },
    "id": "60wcY2MHRB_N",
    "outputId": "05f7cc31-64d7-4589-a07a-6ce8d9799fc6"
   },
   "outputs": [
    {
     "data": {
      "text/html": [
       "<div>\n",
       "<style scoped>\n",
       "    .dataframe tbody tr th:only-of-type {\n",
       "        vertical-align: middle;\n",
       "    }\n",
       "\n",
       "    .dataframe tbody tr th {\n",
       "        vertical-align: top;\n",
       "    }\n",
       "\n",
       "    .dataframe thead th {\n",
       "        text-align: right;\n",
       "    }\n",
       "</style>\n",
       "<table border=\"1\" class=\"dataframe\">\n",
       "  <thead>\n",
       "    <tr style=\"text-align: right;\">\n",
       "      <th></th>\n",
       "      <th>user_id</th>\n",
       "    </tr>\n",
       "    <tr>\n",
       "      <th>group</th>\n",
       "      <th></th>\n",
       "    </tr>\n",
       "  </thead>\n",
       "  <tbody>\n",
       "    <tr>\n",
       "      <th>group1</th>\n",
       "      <td>2245</td>\n",
       "    </tr>\n",
       "    <tr>\n",
       "      <th>group3</th>\n",
       "      <td>1051</td>\n",
       "    </tr>\n",
       "    <tr>\n",
       "      <th>group2</th>\n",
       "      <td>997</td>\n",
       "    </tr>\n",
       "  </tbody>\n",
       "</table>\n",
       "</div>"
      ],
      "text/plain": [
       "        user_id\n",
       "group          \n",
       "group1     2245\n",
       "group3     1051\n",
       "group2      997"
      ]
     },
     "execution_count": 46,
     "metadata": {},
     "output_type": "execute_result"
    }
   ],
   "source": [
    "events.groupby(['group']).agg({'user_id':'count'}).sort_values(by='user_id', ascending = False)"
   ]
  },
  {
   "cell_type": "markdown",
   "metadata": {
    "id": "bRt7aaCGjsbi"
   },
   "source": [
    "В первой группе предскауземо больше всего юзеров. Однако проверим, на сколько они для нас \"качественные\""
   ]
  },
  {
   "cell_type": "markdown",
   "metadata": {
    "id": "Uo2U5TGQb-ZB"
   },
   "source": [
    "<div class=\"alert alert-block alert-danger\">✍\n",
    "    \n",
    "\n",
    "__Комментарий от тимлида №1__\n",
    "\n",
    "Нельзя ориентироваться на малые сегменты и придется подумать над выделением этого момента. На вебинаре этот момент был отмечен (что самый маленький сегмент, хотя бы 10% от самого большого). Иначе получим шум\n",
    "    \n",
    "    \n",
    "---\n",
    "    \n",
    "Дальше пока не проверяю (в этой части проекта), т.к. данные изменятся\n",
    "</div>"
   ]
  },
  {
   "cell_type": "markdown",
   "metadata": {
    "id": "rsoFKgqsfTlK"
   },
   "source": [
    "<div class=\"alert alert-info\"> <b>Комментарии студента:</b> Исправила ✔ </div>"
   ]
  },
  {
   "cell_type": "markdown",
   "metadata": {
    "id": "9wfTIY6KLxSA"
   },
   "source": [
    "<div class=\"alert alert-block alert-success\">✔️\n",
    "    \n",
    "\n",
    "__Комментарий от тимлида №2__\n",
    "\n",
    "Вес сегментов хороший. Молодец)\n",
    "</div>"
   ]
  },
  {
   "cell_type": "markdown",
   "metadata": {
    "id": "tk-1uYQviNld"
   },
   "source": [
    "## Подготовка данных"
   ]
  },
  {
   "cell_type": "markdown",
   "metadata": {
    "id": "ovOzHkwziwPR"
   },
   "source": [
    "Добавим к профилям пользователей информацию о распределении по группам"
   ]
  },
  {
   "cell_type": "code",
   "execution_count": 47,
   "metadata": {
    "id": "AKhEhXlaR3eR"
   },
   "outputs": [],
   "source": [
    "profiles = profiles.merge(events, on='user_id', how='left')"
   ]
  },
  {
   "cell_type": "markdown",
   "metadata": {
    "id": "yz3kLOlD2n9o"
   },
   "source": [
    "Так же создадим датасет с информацией о юзерах, совершивших ключевое действие (для анализа конверсии)"
   ]
  },
  {
   "cell_type": "code",
   "execution_count": 48,
   "metadata": {
    "id": "abUMelUppmqk"
   },
   "outputs": [],
   "source": [
    "convers_users = df.query('event_name == \"contacts_show\"')"
   ]
  },
  {
   "cell_type": "markdown",
   "metadata": {
    "id": "r-qHV32eNlbM"
   },
   "source": [
    "Добавим обозначение пользователей, совершивших целевое действие, в профили "
   ]
  },
  {
   "cell_type": "code",
   "execution_count": 49,
   "metadata": {
    "id": "QeWhtlIG9Djn"
   },
   "outputs": [],
   "source": [
    "profiles['conv'] = profiles['user_id'].isin(convers_users['user_id'].unique())"
   ]
  },
  {
   "cell_type": "markdown",
   "metadata": {
    "id": "JAk50M5Xh_F4"
   },
   "source": [
    "Функция для просчета retantion rate по группам "
   ]
  },
  {
   "cell_type": "code",
   "execution_count": 50,
   "metadata": {
    "id": "oJ_wSrvGjvdL"
   },
   "outputs": [],
   "source": [
    "def get_retention(\n",
    "    profiles,\n",
    "    sessions,\n",
    "    observation_date,\n",
    "    horizon_days,\n",
    "    dimensions=[],\n",
    "    ignore_horizon=True,\n",
    "):\n",
    "    \n",
    "    # исключаем пользователей, не «доживших» до горизонта анализа\n",
    "    last_suitable_acquisition_date = observation_date\n",
    "    if not ignore_horizon:\n",
    "        last_suitable_acquisition_date = observation_date - timedelta(\n",
    "            days=horizon_days - 1\n",
    "        )\n",
    "    result_raw = profiles.query('dt <= @last_suitable_acquisition_date')\n",
    "\n",
    "    # собираем «сырые» данные для расчёта удержания\n",
    "    result_raw = result_raw.merge(\n",
    "        sessions[['user_id', 'session_start']], on='user_id', how='left'\n",
    "    )\n",
    "    result_raw['lifetime'] = (\n",
    "        result_raw['session_start'] - result_raw['first_ts']\n",
    "    ).dt.days\n",
    "\n",
    "    # функция для группировки таблицы по желаемым признакам\n",
    "    def group_by_dimensions(df, dims, horizon_days):\n",
    "        result = df.pivot_table(\n",
    "            index=dims, columns='lifetime', values='user_id', aggfunc='nunique'\n",
    "        )\n",
    "        cohort_sizes = (\n",
    "            df.groupby(dims)\n",
    "            .agg({'user_id': 'nunique'})\n",
    "            .rename(columns={'user_id': 'cohort_size'})\n",
    "        )\n",
    "        result = cohort_sizes.merge(result, on=dims, how='left').fillna(0)\n",
    "        result = result.div(result['cohort_size'], axis=0)\n",
    "        result = result[['cohort_size'] + list(range(horizon_days))]\n",
    "        result['cohort_size'] = cohort_sizes\n",
    "        return result\n",
    "\n",
    "    # получаем таблицу удержания\n",
    "    result_grouped = group_by_dimensions(result_raw, dimensions, horizon_days)\n",
    "\n",
    "    # получаем таблицу динамики удержания\n",
    "    result_in_time = group_by_dimensions(\n",
    "        result_raw, dimensions + ['dt'], horizon_days\n",
    "    )\n",
    "\n",
    "    # возвращаем обе таблицы и сырые данные\n",
    "    return result_raw, result_grouped, result_in_time "
   ]
  },
  {
   "cell_type": "markdown",
   "metadata": {
    "id": "MgeckePejF8I"
   },
   "source": [
    "Функция для расчета конверсии в целевое действие "
   ]
  },
  {
   "cell_type": "code",
   "execution_count": 51,
   "metadata": {
    "id": "2Vmn6gF0RCCD"
   },
   "outputs": [],
   "source": [
    "def get_conversion(\n",
    "    profiles,\n",
    "    purchases,\n",
    "    observation_date,\n",
    "    horizon_days,\n",
    "    dimensions=[],\n",
    "    ignore_horizon=True,\n",
    "):\n",
    "\n",
    "    # исключаем пользователей, не «доживших» до горизонта анализа\n",
    "    last_suitable_acquisition_date = observation_date\n",
    "    if not ignore_horizon:\n",
    "        last_suitable_acquisition_date = observation_date - timedelta(\n",
    "            days=horizon_days - 1\n",
    "        )\n",
    "    result_raw = profiles.query('dt <= @last_suitable_acquisition_date')\n",
    "\n",
    "    # определяем дату и время первого события для каждого пользователя\n",
    "    first_purchases = (\n",
    "        convers_users.sort_values(by=['user_id', 'event_time'])\n",
    "        .groupby('user_id')\n",
    "        .agg({'event_time': 'first'})\n",
    "        .reset_index()\n",
    "    )\n",
    "\n",
    "    # добавляем данные о покупках в профили\n",
    "    result_raw = result_raw.merge(\n",
    "        first_purchases[['user_id', 'event_time']], on='user_id', how='left'\n",
    "    )\n",
    "\n",
    "    # рассчитываем лайфтайм для каждой покупки\n",
    "    result_raw['lifetime'] = (\n",
    "        result_raw['event_time'] - result_raw['first_ts']\n",
    "    ).dt.days\n",
    "\n",
    "    # группируем по cohort, если в dimensions ничего нет\n",
    "    if len(dimensions) == 0:\n",
    "        result_raw['cohort'] = 'All users' \n",
    "        dimensions = dimensions + ['cohort']\n",
    "\n",
    "    # функция для группировки таблицы по желаемым признакам\n",
    "    def group_by_dimensions(df, dims, horizon_days):\n",
    "        result = df.pivot_table(\n",
    "            index=dims, columns='lifetime', values='user_id', aggfunc='nunique'\n",
    "        )\n",
    "        result = result.fillna(0).cumsum(axis = 1)\n",
    "        cohort_sizes = (\n",
    "            df.groupby(dims)\n",
    "            .agg({'user_id': 'nunique'})\n",
    "            .rename(columns={'user_id': 'cohort_size'})\n",
    "        )\n",
    "        result = cohort_sizes.merge(result, on=dims, how='left').fillna(0)\n",
    "        # делим каждую «ячейку» в строке на размер когорты\n",
    "        # и получаем conversion rate\n",
    "        result = result.div(result['cohort_size'], axis=0)\n",
    "        result = result[['cohort_size'] + list(range(horizon_days))]\n",
    "        result['cohort_size'] = cohort_sizes\n",
    "        return result\n",
    "\n",
    "    # получаем таблицу конверсии\n",
    "    result_grouped = group_by_dimensions(result_raw, dimensions, horizon_days)\n",
    "\n",
    "    # для таблицы динамики конверсии убираем 'cohort' из dimensions\n",
    "    if 'cohort' in dimensions: \n",
    "        dimensions = []\n",
    "\n",
    "    # получаем таблицу динамики конверсии\n",
    "    result_in_time = group_by_dimensions(\n",
    "        result_raw, dimensions + ['dt'], horizon_days\n",
    "    )\n",
    "\n",
    "    # возвращаем обе таблицы и сырые данные\n",
    "    return result_raw, result_grouped, result_in_time "
   ]
  },
  {
   "cell_type": "markdown",
   "metadata": {
    "id": "kdrN2sNF3mSl"
   },
   "source": [
    "Зададим параметры: \n",
    "\n",
    "\n",
    "\n",
    "*   **horizon_days** - 14. Двух недель хватит, чтоб понять поведение пользвателей.\n",
    "*   Для дня наблюдения (**observation_date**) - 2019,10,20, так, в наши наблюдения не попадут пользователи, \"не дожившие\" до двух недель.\n",
    "\n"
   ]
  },
  {
   "cell_type": "code",
   "execution_count": 52,
   "metadata": {
    "id": "53SxC5u53lta"
   },
   "outputs": [],
   "source": [
    "#observation_date = df['event_time'].max().date() #момент анализа\n",
    "observation_date = datetime(2019, 10, 20).date()\n",
    "horizon_days = 15"
   ]
  },
  {
   "cell_type": "markdown",
   "metadata": {
    "id": "959y0RU5jwmB"
   },
   "source": [
    "## Retantion Rate по группам"
   ]
  },
  {
   "cell_type": "code",
   "execution_count": 53,
   "metadata": {
    "id": "gqdNxYXBiB85"
   },
   "outputs": [],
   "source": [
    "dimensions=['group']\n",
    "\n",
    "retention_raw, retention_grouped, retention_in_time = get_retention(\n",
    "    profiles, df, observation_date, horizon_days, dimensions)"
   ]
  },
  {
   "cell_type": "code",
   "execution_count": 54,
   "metadata": {
    "colab": {
     "base_uri": "https://localhost:8080/",
     "height": 903
    },
    "id": "Cud7L_yqRCEt",
    "outputId": "c2940451-b08c-481e-89bc-5112c501928d"
   },
   "outputs": [
    {
     "data": {
      "image/png": "[encoded data removed]",
      "text/plain": [
       "<Figure size 2160x1080 with 2 Axes>"
      ]
     },
     "metadata": {
      "needs_background": "light"
     },
     "output_type": "display_data"
    }
   ],
   "source": [
    "plt.figure(figsize=(30, 15))  # задаём размер графика\n",
    "sns.heatmap(\n",
    "    retention_grouped.drop(columns=['cohort_size', 0]),  # удаляем размеры когорт и первый день\n",
    "    annot=True,  # включаем подписи\n",
    "    fmt='.2%',  # переводим значения в проценты\n",
    ")\n",
    "plt.title('Тепловая карта удержания по группам', fontsize=20) \n",
    "plt.ylabel('Группы', fontsize=15)\n",
    "plt.xlabel('Дни', fontsize=15)\n",
    "plt.show()"
   ]
  },
  {
   "cell_type": "markdown",
   "metadata": {
    "id": "RToyakoJO4ti"
   },
   "source": [
    "1.   Пользователи первой группы показывают худшие результаты по удержанию. Их максимальный процент - 5,99 на первый рассматриваемый день. После процент стремительно падает.\n",
    "2.   Пользователи группы 2 ведут себя более активно (во всех смыслах). Их максимальный процент - 8,64 на первый рассматриваемый день. Далее, он так же снижиается\n",
    "3.   Пользватели третьей группы возвращаются активнее всех - их максимальный % - 23,44.\n",
    "\n",
    "**У пользователей всех групп мы видим интересную особенность - всплески активности через неделю.** Вероятно, в эти дни пользователем автоматически высылаются увемления/просьба оставить отзыв, что и приводит к их возвращению.\n",
    "\n"
   ]
  },
  {
   "cell_type": "markdown",
   "metadata": {
    "id": "lX5uMR7dLxSF"
   },
   "source": [
    "<div class=\"alert alert-block alert-success\">✔️\n",
    "    \n",
    "\n",
    "__Комментарий от тимлида №2__\n",
    "\n",
    "Да, результаты получились интересными\n",
    "</div>"
   ]
  },
  {
   "cell_type": "markdown",
   "metadata": {
    "id": "Ep5uPXvB_haG"
   },
   "source": [
    "## Конверсия по группам "
   ]
  },
  {
   "cell_type": "code",
   "execution_count": 55,
   "metadata": {
    "id": "cMoYPW0kRCHg"
   },
   "outputs": [],
   "source": [
    "result_raw, conversion_grouped, result_in_time  = get_conversion(\n",
    "    profiles, df, observation_date, horizon_days, dimensions)"
   ]
  },
  {
   "cell_type": "code",
   "execution_count": 56,
   "metadata": {
    "colab": {
     "base_uri": "https://localhost:8080/",
     "height": 903
    },
    "id": "ZjOMeCZqiBs3",
    "outputId": "c5216a81-bcc4-4669-d279-529a507215de"
   },
   "outputs": [
    {
     "data": {
      "image/png": "[encoded data removed]",
      "text/plain": [
       "<Figure size 2160x1080 with 2 Axes>"
      ]
     },
     "metadata": {
      "needs_background": "light"
     },
     "output_type": "display_data"
    }
   ],
   "source": [
    "plt.figure(figsize=(30, 15))  # задаём размер графика\n",
    "sns.heatmap(\n",
    "    conversion_grouped.drop(columns=['cohort_size', 0]),  # удаляем размеры когорт и первый день\n",
    "    annot=True,  # включаем подписи\n",
    "    fmt='.2%',  # переводим значения в проценты\n",
    ")\n",
    "plt.title('Тепловая карта конверсии по группам', fontsize=20) \n",
    "plt.ylabel('Группы', fontsize=15)\n",
    "plt.xlabel('Дни', fontsize=15)\n",
    "plt.show()"
   ]
  },
  {
   "cell_type": "markdown",
   "metadata": {
    "id": "bw0vfvjHVQO3"
   },
   "source": [
    "1.   У группы 1 конверсия в целевое действие достигает 15,51% к 14 дню\n",
    "2.   Конверсия пользователей группы 2 достигает 23,99%\n",
    "3.   Конверсия пользователей группы 3 достигает 32,81%\n",
    "\n",
    "**В конверсии в целевое действие группа 3 так же лидирует** "
   ]
  },
  {
   "cell_type": "markdown",
   "metadata": {
    "id": "X_bTyES1LxSG"
   },
   "source": []
  },
  {
   "cell_type": "markdown",
   "metadata": {
    "id": "19fKsfThbHAC"
   },
   "source": [
    "# Вывод сегментации "
   ]
  },
  {
   "cell_type": "markdown",
   "metadata": {
    "id": "xRsAeDdZf_Lh"
   },
   "source": [
    "**Отвечая на основные вопросы исследования:**\n",
    "1.   Между возвращением в приложение и частотой действий есть прямая взаимосвязь - чем больше действий, тем выше retantion rate. \n",
    "2.   Такая же взаимосвязь есть и между количеством действий и конверсией - чем активней пользователь, тем чаще он делает целевое действие. В нашем случае - просматривает контакты.\n",
    "\n",
    "**Предположение о том, что пользователи, с превышающим среднее количеством действий чаще вовзращаются, оправдалось. И напротив, оказалось неверным преплоложение о том, что пользователи с наибольшим количеством действий реже просматривают контакты. Такие юзеры активны во всех смыслах.**\n",
    "\n",
    "\n"
   ]
  },
  {
   "cell_type": "markdown",
   "metadata": {
    "id": "Xb9ffwrdLxSH"
   },
   "source": [
    "<div class=\"alert alert-block alert-success\">✔️\n",
    "    \n",
    "\n",
    "__Комментарий от тимлида №2__\n",
    "\n",
    "Отлично проведенный этап. На все вопросы получены ответы.\n",
    "</div>"
   ]
  },
  {
   "cell_type": "markdown",
   "metadata": {
    "id": "8IWZAtpwjo-D"
   },
   "source": [
    "# Проверка гипотез"
   ]
  },
  {
   "cell_type": "markdown",
   "metadata": {
    "id": "JUweOqxF8Lod"
   },
   "source": [
    "## Конверсия пользователей из yandex и google"
   ]
  },
  {
   "cell_type": "markdown",
   "metadata": {
    "id": "zTRp0dtGzTOv"
   },
   "source": [
    "Первое утверждение, которое нам предстоит проверить звучит как \"Пользователи из yandex и google демонстрируют разную конверсию\". На его основе мы выдвигаем нулевую гипотезу \"Пользователи из yandex и google демонстрируют равную конверсию\". Альтезнативная же гипотеза, в случае, если данные будут протироваречить нулевой гипотезе, будет звучать как \"Пользователи из yandex и google демонстрируют разную конверсию\"."
   ]
  },
  {
   "cell_type": "markdown",
   "metadata": {
    "id": "xjvOcCW-A203"
   },
   "source": [
    "Подготовим данные для удобной проверки"
   ]
  },
  {
   "cell_type": "code",
   "execution_count": 57,
   "metadata": {
    "id": "ggVPmh65iBx5"
   },
   "outputs": [],
   "source": [
    "google_id = (df[(df['source']=='google')&(df['user_id'])]['user_id']).nunique() #количество юзеров от гугл\n",
    "yandex_id = (df[(df['source']=='yandex')&(df['user_id'])]['user_id']).nunique() #количество юзеров от яндекс\n",
    "\n",
    "google_conv = (df[(df['source']=='google')&(df['event_name']=='contacts_show')]['user_id']).nunique() #количество целевых дейтсвий от гугл\n",
    "yandex_conv = (df[(df['source']=='yandex')&(df['event_name']=='contacts_show')]['user_id']).nunique() #количество целевых дейтсвий от яндекс"
   ]
  },
  {
   "cell_type": "markdown",
   "metadata": {
    "id": "p6FHsg-GBUSw"
   },
   "source": [
    "**Гипотезы:**\n",
    "\n",
    "**Н0: Пользователи из yandex и google демонстрируют равную конверсию**\n",
    "\n",
    "**Н1: Пользователи из yandex и google демонстрируют разную конверсию** "
   ]
  },
  {
   "cell_type": "markdown",
   "metadata": {
    "id": "qvjdVKbFb-Zd"
   },
   "source": [
    "<div class=\"alert alert-block alert-success\">✔️\n",
    "    \n",
    "\n",
    "__Комментарий от тимлида №1__\n",
    "\n",
    "Верная интерпритация нулевой и альтернативной гипотез\n",
    "</div>"
   ]
  },
  {
   "cell_type": "code",
   "execution_count": 58,
   "metadata": {
    "colab": {
     "base_uri": "https://localhost:8080/"
    },
    "id": "JxXBRwKBzl7l",
    "outputId": "f2600c7f-1e52-42dc-af9a-96a1eeb7ef1a"
   },
   "outputs": [
    {
     "name": "stdout",
     "output_type": "stream",
     "text": [
      "275 478 1129 1934\n",
      "275 478 1129 1934\n",
      "p-значение:  0.8244316027993777\n",
      "Не получилось отвергнуть нулевую гипотезу, нет оснований считать доли разными\n"
     ]
    }
   ],
   "source": [
    "alpha = 0.05  # критический уровень статистической значимости\n",
    "\n",
    "purchases = np.array([google_conv, yandex_conv])\n",
    "leads = np.array([google_id, yandex_id])\n",
    "\n",
    "p1 = purchases[0]/leads[0]\n",
    "\n",
    "p2 = purchases[1]/leads[1]\n",
    "\n",
    "print(purchases[0], purchases[1], leads[0], leads[1])\n",
    "\n",
    "print(purchases[0] ,purchases[1] , leads[0],leads[1] )\n",
    "\n",
    "p_combined = (purchases[0] + purchases[1]) / (leads[0] + leads[1])\n",
    "\n",
    "difference = p1 - p2 \n",
    "\n",
    "z_value = difference / mth.sqrt(p_combined * (1 - p_combined) * (1/leads[0] + 1/leads[1]))\n",
    "\n",
    "distr = st.norm(0, 1)  \n",
    "\n",
    "p_value = (1 - distr.cdf(abs(z_value))) * 2\n",
    "\n",
    "print('p-значение: ', p_value)\n",
    "\n",
    "if p_value < alpha:\n",
    "    print('Отвергаем нулевую гипотезу: между долями есть значимая разница')\n",
    "else:\n",
    "    print(\n",
    "        'Не получилось отвергнуть нулевую гипотезу, нет оснований считать доли разными'\n",
    "    )"
   ]
  },
  {
   "cell_type": "markdown",
   "metadata": {
    "id": "mFjUIc-nb-Zd"
   },
   "source": [
    "<div class=\"alert alert-block alert-danger\">✍\n",
    "    \n",
    "\n",
    "__Комментарий от тимлида №1__\n",
    "\n",
    "* `purchases` (2 значения) - [количество уникальных пользователей которые совершили `действие` в группе A, количество уникальных пользователей которые совершили `действие` в группе B]\n",
    "* `leads` (2 значения) - [общее количество уникальных пользователей в группе A, общее количество уникальных пользователей в группе B]\n",
    "</div>"
   ]
  },
  {
   "cell_type": "markdown",
   "metadata": {
    "id": "h06MM2zfkdPG"
   },
   "source": [
    "<div class=\"alert alert-info\"> <b>Комментарии студента:</b> Исправила ✔ </div>"
   ]
  },
  {
   "cell_type": "markdown",
   "metadata": {
    "id": "f7wxOKWaLxSJ"
   },
   "source": [
    "<div class=\"alert alert-block alert-danger\">✍\n",
    "    \n",
    "\n",
    "__Комментарий от тимлида №2__\n",
    "\n",
    "Сейчас у тебя по 1 пользователю в каждой группе, которое совершили ЦД\n",
    "    \n",
    "    \n",
    "![image.png](attachment:image.png)\n",
    "</div>"
   ]
  },
  {
   "cell_type": "markdown",
   "metadata": {
    "id": "bRiPMcTZON53"
   },
   "source": [
    "<div class=\"alert alert-info\"> <b>Комментарии студента:</b> Исправила ✔ </div>"
   ]
  },
  {
   "cell_type": "markdown",
   "metadata": {
    "id": "tGkpSNzcBqQ1"
   },
   "source": [
    "**Нулевая гипотеза не отвергнута, а значит пользователи из yandex и google демонстрируют равную конверсию**"
   ]
  },
  {
   "cell_type": "markdown",
   "metadata": {},
   "source": [
    "<div class=\"alert alert-block alert-success\">✔️\n",
    "    \n",
    "\n",
    "__Комментарий от тимлида №3__\n",
    "\n",
    "Гипотеза проверена корректно\n",
    "</div>"
   ]
  },
  {
   "cell_type": "markdown",
   "metadata": {
    "id": "i-5iHZNjBwTJ"
   },
   "source": [
    "## Возвращаемость пользователей из yandex и google"
   ]
  },
  {
   "cell_type": "markdown",
   "metadata": {
    "id": "ajf9Mf4GCDr8"
   },
   "source": [
    "Первое утверждение, которое нам предстоит проверить звучит как \"Пользователи из yandex и google демонстрируют разную возвращаемость\". На его основе мы выдвигаем нулевую гипотезу \"Пользователи из yandex и google демонстрируют равную возвращаемость\". Альтезнативная же гипотеза, в случае, если данные будут протироваречить нулевой гипотезе, будет звучать как \"Пользователи из yandex и google демонстрируют разную возвращаемость\"."
   ]
  },
  {
   "cell_type": "markdown",
   "metadata": {
    "id": "Bv6u-AA3OGCm"
   },
   "source": [
    "Расчитаем retantion по ранее заданным параметрам, изменив только dimensions на источник"
   ]
  },
  {
   "cell_type": "code",
   "execution_count": 59,
   "metadata": {
    "id": "wbeC8fWs96-o"
   },
   "outputs": [],
   "source": [
    "dimensions=['source']\n",
    "\n",
    "retention_raw, retention_grouped_source, retention_in_time = get_retention(\n",
    "    profiles, df, observation_date, horizon_days, dimensions)"
   ]
  },
  {
   "cell_type": "markdown",
   "metadata": {
    "id": "5OKQbUxcOcFv"
   },
   "source": [
    "Вынесем все доли в столбец и уберем размеры когорты "
   ]
  },
  {
   "cell_type": "code",
   "execution_count": 60,
   "metadata": {
    "id": "gSDCA0v197B1"
   },
   "outputs": [],
   "source": [
    "retention_grouped_source = retention_grouped_source.drop('cohort_size', axis=1)\n",
    "retention_grouped_source = retention_grouped_source.drop(0, axis=1)\n",
    "retention_grouped_source = retention_grouped_source.T "
   ]
  },
  {
   "cell_type": "markdown",
   "metadata": {
    "id": "29W8OuUFOvfc"
   },
   "source": [
    "За основу для теста возьмем доли возвращаемости обоих сервисов"
   ]
  },
  {
   "cell_type": "markdown",
   "metadata": {
    "id": "YTO2r2K8hmoz"
   },
   "source": [
    "**Гипотезы:**\n",
    "\n",
    "**Н0: Пользователи из yandex и google демонстрируют равную возвращаемость**\n",
    "\n",
    "**Н1: Пользователи из yandex и google демонстрируют разную возвращаемость** "
   ]
  },
  {
   "cell_type": "code",
   "execution_count": 61,
   "metadata": {
    "colab": {
     "base_uri": "https://localhost:8080/"
    },
    "id": "HDXx-yZ1la-y",
    "outputId": "9974496b-f65d-4749-ba45-d59178af827c"
   },
   "outputs": [
    {
     "name": "stdout",
     "output_type": "stream",
     "text": [
      "p-значение: 0.9873389180546288\n",
      "Не получилось отвергнуть нулевую гипотезу\n"
     ]
    }
   ],
   "source": [
    "google = retention_grouped_source['google']\n",
    "yandex = retention_grouped_source['yandex']\n",
    "\n",
    "alpha = .05\n",
    "\n",
    "results = st.ttest_ind(\n",
    "    google, yandex)\n",
    "print('p-значение:', results.pvalue)\n",
    "\n",
    "if results.pvalue < alpha:\n",
    "    print(\"Отвергаем нулевую гипотезу\")\n",
    "else:\n",
    "    print(\"Не получилось отвергнуть нулевую гипотезу\")"
   ]
  },
  {
   "cell_type": "markdown",
   "metadata": {
    "id": "iDmLOYKjijgy"
   },
   "source": [
    "**Нулевая гипотеза не отвергнута, а значит пользователи из yandex и google демонстрируют равную возвращаемость на седьмой день**"
   ]
  },
  {
   "cell_type": "markdown",
   "metadata": {
    "id": "f-l7KyU3b-Zh"
   },
   "source": [
    "<div class=\"alert alert-block alert-danger\">✍\n",
    "    \n",
    "\n",
    "__Комментарий от тимлида №1__\n",
    "\n",
    "А тут мы должны использовать статтест. Т.к. мы рассматриваем не конверсию, а распеределение данных. Т.е. по аналогии с 1ым сборным проектом\n",
    "</div>"
   ]
  },
  {
   "cell_type": "markdown",
   "metadata": {
    "id": "NRNoAr3irsOs"
   },
   "source": [
    "<div class=\"alert alert-info\"> <b>Комментарии студента:</b> Исправила ✔ </div>"
   ]
  },
  {
   "cell_type": "markdown",
   "metadata": {
    "id": "-UsG46QFLxSM"
   },
   "source": [
    "<div class=\"alert alert-block alert-success\">✔️\n",
    "    \n",
    "\n",
    "__Комментарий от тимлида №2__\n",
    "\n",
    "А вот это...верная проверка гипотезы\n",
    "</div>"
   ]
  },
  {
   "cell_type": "markdown",
   "metadata": {
    "id": "eFsPJ8JRb-Zh"
   },
   "source": []
  },
  {
   "cell_type": "markdown",
   "metadata": {
    "id": "l05Ka95db-Zh"
   },
   "source": []
  },
  {
   "cell_type": "markdown",
   "metadata": {
    "id": "Pmfzpfj_b-Zh"
   },
   "source": [
    "<div class=\"alert alert-block alert-danger\">✍\n",
    "    \n",
    "\n",
    "__Комментарий от тимлида №1__\n",
    "\n",
    "Финальный вывод\n",
    "</div>"
   ]
  },
  {
   "cell_type": "markdown",
   "metadata": {
    "id": "qMOK_uk-uYhe"
   },
   "source": [
    "<div class=\"alert alert-info\"> <b>Комментарии студента:</b> Добавила ниже ✔ </div>"
   ]
  },
  {
   "cell_type": "markdown",
   "metadata": {
    "id": "BoOVY0d4b-Zi"
   },
   "source": [
    "# Вывод исследования "
   ]
  },
  {
   "cell_type": "markdown",
   "metadata": {
    "id": "xkuPWAr0b-Zi"
   },
   "source": [
    "**В этом исследовании мобильного приложения мы прошли через несколько основных этапов. Каждый из них дал нам пищу для размышлений и основу для прогнозов. Кратко пройдемся по каждому их них:**\n",
    "\n",
    "1. ***Ознакомление и предобработка***\n",
    "\n",
    "  - выгрузка данных\n",
    "  - переимонование столбцов\n",
    "  - обработка пропусков\n",
    "  - изменение типов данных\n",
    "  - вычисление и добавление дополнительных данных\n",
    "\n",
    "2. ***Анализ данных***\n",
    "\n",
    "**По пользователям:**\n",
    "\n",
    "   - максимальный процент retantion rate - 17\n",
    "   - медианное время в приложении - 16.3 минуты\n",
    "   - медианное количество сессий - 1\n",
    "   - медианное время сессии - 9.8 минут \n",
    "   - медианное количество действий для пользователя - 9\n",
    "   - конверсия уникального пользователя в просмотр контакта - 22,85\n",
    "   \n",
    "**По действиям:**\n",
    "   - самое частое действие - просмотр рекомендованных объявлений\n",
    "   - самый активный по действиям день - понедельник\n",
    "\n",
    "3. ***Сегментация данных***\n",
    "\n",
    "Пользователи были разделены на три группы в зависимости от количества дейтсвий в приложении.\n",
    "  \n",
    "  - Возвращаемость напрямую коррелирует с количеством действий в приложении - чем их больше, тем выше возвращаемость\n",
    "  - Конверсия в целевое действие так же напрямую коррелирует с количеством совершенных действий\n",
    "\n",
    "4.  ***Проверка гипотез***\n",
    "\n",
    "В результате проверки гипотез были выявлены следущие факты:\n",
    "\n",
    "   - Пользователи из yandex и google демонстрируют равную конверсию\n",
    "   - Пользователи из yandex и google демонстрируют равную возвращаемость"
   ]
  },
  {
   "cell_type": "markdown",
   "metadata": {
    "id": "Z8UTErImhmWc"
   },
   "source": [
    "## Рекомендации "
   ]
  },
  {
   "cell_type": "markdown",
   "metadata": {
    "id": "xq-j4GWoiE9u"
   },
   "source": [
    "* Исходя из вывода, наиболее актуальной стратегией для увеличения прибыли будет \n",
    "увеличивать вовлеченность юзеров в приложение - акции для постоянных покупателей, пуш-уведомление и т.д. Тем самым, увеличивая количество действий в приложении, мы будем увеличивать как показатели возвращения в приложение, так и конверию в ключевое действие. \n",
    "* Разделение пользователей из разных источников на данный момент неактульно - они показывают как равную возвращаемость, так и равную конверсию в целевое действие."
   ]
  },
  {
   "cell_type": "markdown",
   "metadata": {
    "id": "OTSI6N-pLxSN"
   },
   "source": []
  },
  {
   "cell_type": "markdown",
   "metadata": {
    "id": "Yt_tx2xLLxSN"
   },
   "source": []
  },
  {
   "cell_type": "markdown",
   "metadata": {
    "id": "9r35pqQFLxSN"
   },
   "source": [
    "<div class=\"alert alert-block alert-danger\">✍\n",
    "    \n",
    "\n",
    "__Комментарий от тимлида №2__\n",
    "\n",
    "\n",
    "Итоговый вывод завершает твое исследование. Представлены основные результаты полученные в ходе анализа, но не увидел каких либо рекомендаций по развитию приложения в разрезе твоего исследования групп пользователей. Добавь, пожалуйста\n",
    "    \n",
    "Не забудь подкорректировать вывод после исправлений\n",
    "\n",
    "</div>"
   ]
  },
  {
   "cell_type": "markdown",
   "metadata": {
    "id": "nC8sZUU5OcXx"
   },
   "source": [
    "<div class=\"alert alert-info\"> <b>Комментарии студента:</b> Перенесла из сегментации и дополнила ✔ </div>"
   ]
  },
  {
   "cell_type": "markdown",
   "metadata": {},
   "source": [
    "<div class=\"alert alert-block alert-success\">✔️\n",
    "    \n",
    "\n",
    "__Комментарий от тимлида №3__\n",
    "\n",
    "Даны рекомендации по  развитию приложения. Это важное качество для аналитика. Развивай его и дальше\n",
    "\n",
    "</div>"
   ]
  },
  {
   "cell_type": "markdown",
   "metadata": {
    "id": "bnIoYvg1b-Zi"
   },
   "source": [
    "<div class=\"alert alert-block alert-warning\">📝\n",
    "    \n",
    "\n",
    "__Комментарий от тимлида №1__\n",
    "    \n",
    "Итог ревью - была проделана хорошая работа! Структура и логика исследования корректные. Ты хорошо провела исследовательский этап и рассчитала многие метрики правильно (но есть ошибки). Постаралась ответить на вопросы заказчика (не в полном объеме) и есть ошибки на этапе проверки гипотез\n",
    "\n",
    "Я отметил критические моменты, которые тебе предстоит доработать, чтобы я смог принять твой проект.\n",
    "\n",
    "Посмотри, пожалуйста, мои замечания и рекомендации.\n",
    "\n",
    "Если возникнут вопросы - обязательно задавай. Буду ждать!\n",
    "    \n",
    "    \n",
    "---\n",
    "    \n",
    "Нужно поправить:\n",
    "\n",
    "1) Оформление графиков\n",
    "\n",
    "2) Поправить воронку\n",
    "\n",
    "3) Конверсия\n",
    "    \n",
    "4) Выводы после разделов\n",
    "    \n",
    "5) Обоснование сегментации\n",
    "    \n",
    "6) Сегментация (вес сегментов)\n",
    "\n",
    "7) Гипотезы\n",
    "    \n",
    "8) Финальный вывод    \n",
    "\n",
    "9) Подправить выводы, после изменений\n",
    "</div>"
   ]
  },
  {
   "cell_type": "markdown",
   "metadata": {
    "id": "PqWgoY2Ob-Zi"
   },
   "source": [
    "<div class=\"alert alert-block alert-warning\">📝\n",
    "    \n",
    "\n",
    "__Комментарий от тимлида №2__\n",
    "    \n",
    "Отличная работа, осталось поправить несколько моментов:\n",
    "    \n",
    "    \n",
    "---\n",
    "    \n",
    "Нужно поправить:\n",
    "\n",
    "1) Оформление графиков\n",
    "\n",
    "2) Гипотеза\n",
    "    \n",
    "3) Финальный вывод    \n",
    "\n",
    "4) Подправить выводы, после изменений и нумерацию слайдов в презентации\n",
    "    \n",
    "    \n",
    "</div>"
   ]
  },
  {
   "cell_type": "markdown",
   "metadata": {
    "id": "7cyFxQO4LxSO"
   },
   "source": [
    "<div class=\"alert alert-block alert-success\">✔️\n",
    "    \n",
    "\n",
    "__Комментарий от тимлида №3__\n",
    "\n",
    "От себя хочу порекомендовать тебе отличную книгу про язык Python. Она очень классная (можно купить как новую, так и на Авито попадается. Вот ссылка на pdf этой книги)\n",
    "    \n",
    "https://monster-book.com/avtomatizaciya-zadach-s-python\n",
    "    \n",
    "---\n",
    "    \n",
    "\n",
    "\n",
    "Все замечания учтены. Успехов на АВ тесте!\n",
    "</div>"
   ]
  },
  {
   "cell_type": "code",
   "execution_count": null,
   "metadata": {},
   "outputs": [],
   "source": []
  }
 ],
 "metadata": {
  "ExecuteTimeLog": [
   {
    "duration": 1156,
    "start_time": "2023-02-19T01:55:29.755Z"
   },
   {
    "duration": 367,
    "start_time": "2023-02-19T01:55:30.913Z"
   },
   {
    "duration": 37,
    "start_time": "2023-02-19T01:55:31.282Z"
   },
   {
    "duration": 10,
    "start_time": "2023-02-19T01:55:31.321Z"
   },
   {
    "duration": 35,
    "start_time": "2023-02-19T01:55:31.333Z"
   },
   {
    "duration": 172,
    "start_time": "2023-02-19T01:55:31.370Z"
   },
   {
    "duration": 3,
    "start_time": "2023-02-19T01:55:31.544Z"
   },
   {
    "duration": 19,
    "start_time": "2023-02-19T01:55:31.549Z"
   },
   {
    "duration": 49,
    "start_time": "2023-02-19T01:55:31.570Z"
   },
   {
    "duration": 45,
    "start_time": "2023-02-19T01:55:31.621Z"
   },
   {
    "duration": 7,
    "start_time": "2023-02-19T01:55:31.668Z"
   },
   {
    "duration": 740,
    "start_time": "2023-02-19T01:55:31.676Z"
   },
   {
    "duration": 25,
    "start_time": "2023-02-19T01:55:32.418Z"
   },
   {
    "duration": 9,
    "start_time": "2023-02-19T01:55:32.446Z"
   },
   {
    "duration": 29,
    "start_time": "2023-02-19T01:55:32.456Z"
   },
   {
    "duration": 346,
    "start_time": "2023-02-19T01:55:32.487Z"
   },
   {
    "duration": 64,
    "start_time": "2023-02-19T01:55:32.835Z"
   },
   {
    "duration": 17,
    "start_time": "2023-02-19T01:55:32.901Z"
   },
   {
    "duration": 6,
    "start_time": "2023-02-19T01:55:32.919Z"
   },
   {
    "duration": 33,
    "start_time": "2023-02-19T01:55:32.926Z"
   },
   {
    "duration": 36,
    "start_time": "2023-02-19T01:55:32.961Z"
   },
   {
    "duration": 6,
    "start_time": "2023-02-19T01:55:32.999Z"
   },
   {
    "duration": 5,
    "start_time": "2023-02-19T01:55:33.007Z"
   },
   {
    "duration": 4137,
    "start_time": "2023-02-19T01:55:33.013Z"
   },
   {
    "duration": 1667,
    "start_time": "2023-02-19T01:55:37.152Z"
   },
   {
    "duration": 501,
    "start_time": "2023-02-19T01:55:38.821Z"
   },
   {
    "duration": 198,
    "start_time": "2023-02-19T01:55:39.323Z"
   },
   {
    "duration": 17,
    "start_time": "2023-02-19T01:55:39.524Z"
   },
   {
    "duration": 13,
    "start_time": "2023-02-19T01:55:39.543Z"
   },
   {
    "duration": 218,
    "start_time": "2023-02-19T01:55:39.557Z"
   },
   {
    "duration": 189,
    "start_time": "2023-02-19T01:55:39.776Z"
   },
   {
    "duration": 8,
    "start_time": "2023-02-19T01:55:39.967Z"
   },
   {
    "duration": 353,
    "start_time": "2023-02-19T01:55:39.976Z"
   },
   {
    "duration": 206,
    "start_time": "2023-02-19T01:55:40.330Z"
   },
   {
    "duration": 194,
    "start_time": "2023-02-19T01:55:40.538Z"
   },
   {
    "duration": 5,
    "start_time": "2023-02-19T01:55:40.734Z"
   },
   {
    "duration": 12,
    "start_time": "2023-02-19T01:55:40.740Z"
   },
   {
    "duration": 8,
    "start_time": "2023-02-19T01:55:40.754Z"
   },
   {
    "duration": 29,
    "start_time": "2023-02-19T01:55:40.763Z"
   },
   {
    "duration": 5,
    "start_time": "2023-02-19T01:55:40.793Z"
   },
   {
    "duration": 7,
    "start_time": "2023-02-19T01:55:40.801Z"
   },
   {
    "duration": 8,
    "start_time": "2023-02-19T01:55:40.809Z"
   },
   {
    "duration": 11,
    "start_time": "2023-02-19T01:55:40.818Z"
   },
   {
    "duration": 113,
    "start_time": "2023-02-19T01:55:40.830Z"
   },
   {
    "duration": 661,
    "start_time": "2023-02-19T01:55:40.944Z"
   },
   {
    "duration": 58,
    "start_time": "2023-02-19T01:55:41.607Z"
   },
   {
    "duration": 633,
    "start_time": "2023-02-19T01:55:41.667Z"
   },
   {
    "duration": 40,
    "start_time": "2023-02-19T01:55:42.302Z"
   },
   {
    "duration": 7,
    "start_time": "2023-02-19T01:55:42.344Z"
   },
   {
    "duration": 111,
    "start_time": "2023-02-19T01:55:42.353Z"
   },
   {
    "duration": 12,
    "start_time": "2023-02-19T01:55:42.465Z"
   },
   {
    "duration": 18,
    "start_time": "2023-02-19T01:55:42.478Z"
   },
   {
    "duration": 10,
    "start_time": "2023-02-19T01:55:42.498Z"
   },
   {
    "duration": 54,
    "start_time": "2023-02-19T02:04:46.280Z"
   },
   {
    "duration": 7,
    "start_time": "2023-02-19T02:04:50.929Z"
   },
   {
    "duration": 8,
    "start_time": "2023-02-19T02:05:58.807Z"
   },
   {
    "duration": 1048,
    "start_time": "2023-02-23T17:00:52.049Z"
   },
   {
    "duration": 374,
    "start_time": "2023-02-23T17:00:53.099Z"
   },
   {
    "duration": 33,
    "start_time": "2023-02-23T17:00:53.475Z"
   },
   {
    "duration": 10,
    "start_time": "2023-02-23T17:00:53.510Z"
   },
   {
    "duration": 14,
    "start_time": "2023-02-23T17:00:53.521Z"
   },
   {
    "duration": 171,
    "start_time": "2023-02-23T17:00:53.537Z"
   },
   {
    "duration": 3,
    "start_time": "2023-02-23T17:00:53.710Z"
   },
   {
    "duration": 35,
    "start_time": "2023-02-23T17:00:53.715Z"
   },
   {
    "duration": 29,
    "start_time": "2023-02-23T17:00:53.751Z"
   },
   {
    "duration": 22,
    "start_time": "2023-02-23T17:00:53.783Z"
   },
   {
    "duration": 10,
    "start_time": "2023-02-23T17:00:53.806Z"
   },
   {
    "duration": 768,
    "start_time": "2023-02-23T17:00:53.818Z"
   },
   {
    "duration": 26,
    "start_time": "2023-02-23T17:00:54.588Z"
   },
   {
    "duration": 9,
    "start_time": "2023-02-23T17:00:54.615Z"
   },
   {
    "duration": 17,
    "start_time": "2023-02-23T17:00:54.626Z"
   },
   {
    "duration": 324,
    "start_time": "2023-02-23T17:00:54.644Z"
   },
   {
    "duration": 63,
    "start_time": "2023-02-23T17:00:54.970Z"
   },
   {
    "duration": 18,
    "start_time": "2023-02-23T17:00:55.034Z"
   },
   {
    "duration": 6,
    "start_time": "2023-02-23T17:00:55.053Z"
   },
   {
    "duration": 53,
    "start_time": "2023-02-23T17:00:55.061Z"
   },
   {
    "duration": 18,
    "start_time": "2023-02-23T17:00:55.115Z"
   },
   {
    "duration": 6,
    "start_time": "2023-02-23T17:00:55.134Z"
   },
   {
    "duration": 5,
    "start_time": "2023-02-23T17:00:55.144Z"
   },
   {
    "duration": 4293,
    "start_time": "2023-02-23T17:00:55.150Z"
   },
   {
    "duration": 1714,
    "start_time": "2023-02-23T17:00:59.445Z"
   },
   {
    "duration": 37,
    "start_time": "2023-02-23T17:01:01.161Z"
   },
   {
    "duration": 174,
    "start_time": "2023-02-23T17:01:01.200Z"
   },
   {
    "duration": 15,
    "start_time": "2023-02-23T17:01:01.377Z"
   },
   {
    "duration": 29,
    "start_time": "2023-02-23T17:01:01.393Z"
   },
   {
    "duration": 16,
    "start_time": "2023-02-23T17:01:01.424Z"
   },
   {
    "duration": 143,
    "start_time": "2023-02-23T17:01:01.441Z"
   },
   {
    "duration": 7,
    "start_time": "2023-02-23T17:01:01.585Z"
   },
   {
    "duration": 35,
    "start_time": "2023-02-23T17:01:01.594Z"
   },
   {
    "duration": 13,
    "start_time": "2023-02-23T17:01:01.631Z"
   },
   {
    "duration": 41,
    "start_time": "2023-02-23T17:01:01.645Z"
   },
   {
    "duration": 150,
    "start_time": "2023-02-23T17:01:01.687Z"
   },
   {
    "duration": 8,
    "start_time": "2023-02-23T17:01:01.838Z"
   },
   {
    "duration": 262,
    "start_time": "2023-02-23T17:01:01.847Z"
   },
   {
    "duration": 178,
    "start_time": "2023-02-23T17:01:02.111Z"
   },
   {
    "duration": 139,
    "start_time": "2023-02-23T17:01:02.290Z"
   },
   {
    "duration": 186,
    "start_time": "2023-02-23T17:01:02.431Z"
   },
   {
    "duration": 8,
    "start_time": "2023-02-23T17:01:02.619Z"
   },
   {
    "duration": 16,
    "start_time": "2023-02-23T17:01:02.629Z"
   },
   {
    "duration": 17,
    "start_time": "2023-02-23T17:01:02.647Z"
   },
   {
    "duration": 16,
    "start_time": "2023-02-23T17:01:02.666Z"
   },
   {
    "duration": 14,
    "start_time": "2023-02-23T17:01:02.684Z"
   },
   {
    "duration": 5,
    "start_time": "2023-02-23T17:01:02.700Z"
   },
   {
    "duration": 18,
    "start_time": "2023-02-23T17:01:02.707Z"
   },
   {
    "duration": 47,
    "start_time": "2023-02-23T17:01:02.727Z"
   },
   {
    "duration": 30,
    "start_time": "2023-02-23T17:01:02.776Z"
   },
   {
    "duration": 118,
    "start_time": "2023-02-23T17:01:02.808Z"
   },
   {
    "duration": 658,
    "start_time": "2023-02-23T17:01:02.927Z"
   },
   {
    "duration": 52,
    "start_time": "2023-02-23T17:01:03.587Z"
   },
   {
    "duration": 666,
    "start_time": "2023-02-23T17:01:03.641Z"
   },
   {
    "duration": 43,
    "start_time": "2023-02-23T17:01:04.309Z"
   },
   {
    "duration": 8,
    "start_time": "2023-02-23T17:01:04.353Z"
   },
   {
    "duration": 109,
    "start_time": "2023-02-23T17:01:04.362Z"
   },
   {
    "duration": 4,
    "start_time": "2023-02-23T17:01:04.473Z"
   },
   {
    "duration": 5,
    "start_time": "2023-02-23T17:01:04.486Z"
   },
   {
    "duration": 8,
    "start_time": "2023-02-23T17:05:57.806Z"
   },
   {
    "duration": 1201,
    "start_time": "2023-02-24T14:59:48.660Z"
   },
   {
    "duration": 343,
    "start_time": "2023-02-24T14:59:49.863Z"
   },
   {
    "duration": 50,
    "start_time": "2023-02-24T14:59:50.208Z"
   },
   {
    "duration": 14,
    "start_time": "2023-02-24T14:59:50.260Z"
   },
   {
    "duration": 31,
    "start_time": "2023-02-24T14:59:50.276Z"
   },
   {
    "duration": 192,
    "start_time": "2023-02-24T14:59:50.309Z"
   },
   {
    "duration": 4,
    "start_time": "2023-02-24T14:59:50.503Z"
   },
   {
    "duration": 11,
    "start_time": "2023-02-24T14:59:50.508Z"
   },
   {
    "duration": 52,
    "start_time": "2023-02-24T14:59:50.521Z"
   },
   {
    "duration": 32,
    "start_time": "2023-02-24T14:59:50.576Z"
   },
   {
    "duration": 8,
    "start_time": "2023-02-24T14:59:50.609Z"
   },
   {
    "duration": 858,
    "start_time": "2023-02-24T14:59:50.619Z"
   },
   {
    "duration": 44,
    "start_time": "2023-02-24T14:59:51.479Z"
   },
   {
    "duration": 24,
    "start_time": "2023-02-24T14:59:51.524Z"
   },
   {
    "duration": 32,
    "start_time": "2023-02-24T14:59:51.550Z"
   },
   {
    "duration": 356,
    "start_time": "2023-02-24T14:59:51.584Z"
   },
   {
    "duration": 64,
    "start_time": "2023-02-24T14:59:51.941Z"
   },
   {
    "duration": 36,
    "start_time": "2023-02-24T14:59:52.006Z"
   },
   {
    "duration": 7,
    "start_time": "2023-02-24T14:59:52.044Z"
   },
   {
    "duration": 38,
    "start_time": "2023-02-24T14:59:52.053Z"
   },
   {
    "duration": 45,
    "start_time": "2023-02-24T14:59:52.093Z"
   },
   {
    "duration": 7,
    "start_time": "2023-02-24T14:59:52.140Z"
   },
   {
    "duration": 11,
    "start_time": "2023-02-24T14:59:52.149Z"
   },
   {
    "duration": 4651,
    "start_time": "2023-02-24T14:59:52.161Z"
   },
   {
    "duration": 1802,
    "start_time": "2023-02-24T14:59:56.814Z"
   },
   {
    "duration": 49,
    "start_time": "2023-02-24T14:59:58.617Z"
   },
   {
    "duration": 179,
    "start_time": "2023-02-24T14:59:58.668Z"
   },
   {
    "duration": 8,
    "start_time": "2023-02-24T14:59:58.851Z"
   },
   {
    "duration": 27,
    "start_time": "2023-02-24T14:59:58.860Z"
   },
   {
    "duration": 24,
    "start_time": "2023-02-24T14:59:58.889Z"
   },
   {
    "duration": 8,
    "start_time": "2023-02-24T14:59:58.914Z"
   },
   {
    "duration": 7,
    "start_time": "2023-02-24T14:59:58.923Z"
   },
   {
    "duration": 161,
    "start_time": "2023-02-24T14:59:58.932Z"
   },
   {
    "duration": 8,
    "start_time": "2023-02-24T14:59:59.094Z"
   },
   {
    "duration": 23,
    "start_time": "2023-02-24T14:59:59.103Z"
   },
   {
    "duration": 22,
    "start_time": "2023-02-24T14:59:59.127Z"
   },
   {
    "duration": 46,
    "start_time": "2023-02-24T14:59:59.150Z"
   },
   {
    "duration": 177,
    "start_time": "2023-02-24T14:59:59.199Z"
   },
   {
    "duration": 8,
    "start_time": "2023-02-24T14:59:59.377Z"
   },
   {
    "duration": 215,
    "start_time": "2023-02-24T14:59:59.387Z"
   },
   {
    "duration": 187,
    "start_time": "2023-02-24T14:59:59.604Z"
   },
   {
    "duration": 155,
    "start_time": "2023-02-24T14:59:59.793Z"
   },
   {
    "duration": 197,
    "start_time": "2023-02-24T14:59:59.950Z"
   },
   {
    "duration": 7,
    "start_time": "2023-02-24T15:00:00.149Z"
   },
   {
    "duration": 20,
    "start_time": "2023-02-24T15:00:00.158Z"
   },
   {
    "duration": 21,
    "start_time": "2023-02-24T15:00:00.179Z"
   },
   {
    "duration": 9,
    "start_time": "2023-02-24T15:00:00.202Z"
   },
   {
    "duration": 22,
    "start_time": "2023-02-24T15:00:00.213Z"
   },
   {
    "duration": 16,
    "start_time": "2023-02-24T15:00:00.236Z"
   },
   {
    "duration": 64,
    "start_time": "2023-02-24T15:00:00.254Z"
   },
   {
    "duration": 33,
    "start_time": "2023-02-24T15:00:00.320Z"
   },
   {
    "duration": 60,
    "start_time": "2023-02-24T15:00:00.355Z"
   },
   {
    "duration": 131,
    "start_time": "2023-02-24T15:00:00.417Z"
   },
   {
    "duration": 671,
    "start_time": "2023-02-24T15:00:00.549Z"
   },
   {
    "duration": 66,
    "start_time": "2023-02-24T15:00:01.221Z"
   },
   {
    "duration": 744,
    "start_time": "2023-02-24T15:00:01.289Z"
   },
   {
    "duration": 57,
    "start_time": "2023-02-24T15:00:02.034Z"
   },
   {
    "duration": 10,
    "start_time": "2023-02-24T15:00:02.093Z"
   },
   {
    "duration": 154,
    "start_time": "2023-02-24T15:00:02.104Z"
   },
   {
    "duration": 5,
    "start_time": "2023-02-24T15:00:02.260Z"
   },
   {
    "duration": 32,
    "start_time": "2023-02-24T15:00:02.266Z"
   }
  ],
  "colab": {
   "provenance": [],
   "toc_visible": true
  },
  "kernelspec": {
   "display_name": "Python 3 (ipykernel)",
   "language": "python",
   "name": "python3"
  },
  "language_info": {
   "codemirror_mode": {
    "name": "ipython",
    "version": 3
   },
   "file_extension": ".py",
   "mimetype": "text/x-python",
   "name": "python",
   "nbconvert_exporter": "python",
   "pygments_lexer": "ipython3",
   "version": "3.9.5"
  },
  "toc": {
   "base_numbering": 1,
   "nav_menu": {},
   "number_sections": true,
   "sideBar": true,
   "skip_h1_title": true,
   "title_cell": "Table of Contents",
   "title_sidebar": "Contents",
   "toc_cell": false,
   "toc_position": {},
   "toc_section_display": true,
   "toc_window_display": true
  }
 },
 "nbformat": 4,
 "nbformat_minor": 1
}
